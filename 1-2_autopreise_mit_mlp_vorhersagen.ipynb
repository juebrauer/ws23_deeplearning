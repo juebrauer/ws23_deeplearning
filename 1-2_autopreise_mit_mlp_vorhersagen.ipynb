{
 "cells": [
  {
   "cell_type": "markdown",
   "id": "7e8f7c7f-68e4-4114-a460-82e3fe691990",
   "metadata": {},
   "source": [
    "# Bereinigten Datensatz einlesen"
   ]
  },
  {
   "cell_type": "code",
   "execution_count": 20,
   "id": "f9b2a348-de0b-4e50-bc7d-d57d926ca9cd",
   "metadata": {},
   "outputs": [
    {
     "data": {
      "text/html": [
       "<div>\n",
       "<style scoped>\n",
       "    .dataframe tbody tr th:only-of-type {\n",
       "        vertical-align: middle;\n",
       "    }\n",
       "\n",
       "    .dataframe tbody tr th {\n",
       "        vertical-align: top;\n",
       "    }\n",
       "\n",
       "    .dataframe thead th {\n",
       "        text-align: right;\n",
       "    }\n",
       "</style>\n",
       "<table border=\"1\" class=\"dataframe\">\n",
       "  <thead>\n",
       "    <tr style=\"text-align: right;\">\n",
       "      <th></th>\n",
       "      <th>brand</th>\n",
       "      <th>model</th>\n",
       "      <th>color</th>\n",
       "      <th>price_in_euro</th>\n",
       "      <th>power_kw</th>\n",
       "      <th>power_ps</th>\n",
       "      <th>transmission_type</th>\n",
       "      <th>fuel_type</th>\n",
       "      <th>fuel_consumption_l_100km</th>\n",
       "      <th>fuel_consumption_g_km</th>\n",
       "      <th>mileage_in_km</th>\n",
       "      <th>registration_month</th>\n",
       "      <th>registration_year</th>\n",
       "    </tr>\n",
       "  </thead>\n",
       "  <tbody>\n",
       "    <tr>\n",
       "      <th>0</th>\n",
       "      <td>alfa-romeo</td>\n",
       "      <td>Alfa Romeo GTV</td>\n",
       "      <td>red</td>\n",
       "      <td>1300.0</td>\n",
       "      <td>148</td>\n",
       "      <td>201</td>\n",
       "      <td>Manual</td>\n",
       "      <td>Petrol</td>\n",
       "      <td>10.9</td>\n",
       "      <td>260.0</td>\n",
       "      <td>160500.0</td>\n",
       "      <td>10</td>\n",
       "      <td>1995</td>\n",
       "    </tr>\n",
       "    <tr>\n",
       "      <th>1</th>\n",
       "      <td>alfa-romeo</td>\n",
       "      <td>Alfa Romeo Spider</td>\n",
       "      <td>black</td>\n",
       "      <td>4900.0</td>\n",
       "      <td>110</td>\n",
       "      <td>150</td>\n",
       "      <td>Manual</td>\n",
       "      <td>Petrol</td>\n",
       "      <td>9.5</td>\n",
       "      <td>225.0</td>\n",
       "      <td>189500.0</td>\n",
       "      <td>7</td>\n",
       "      <td>1995</td>\n",
       "    </tr>\n",
       "    <tr>\n",
       "      <th>2</th>\n",
       "      <td>alfa-romeo</td>\n",
       "      <td>Alfa Romeo Spider</td>\n",
       "      <td>red</td>\n",
       "      <td>7900.0</td>\n",
       "      <td>110</td>\n",
       "      <td>150</td>\n",
       "      <td>Manual</td>\n",
       "      <td>Petrol</td>\n",
       "      <td>9.5</td>\n",
       "      <td>225.0</td>\n",
       "      <td>47307.0</td>\n",
       "      <td>4</td>\n",
       "      <td>1996</td>\n",
       "    </tr>\n",
       "  </tbody>\n",
       "</table>\n",
       "</div>"
      ],
      "text/plain": [
       "        brand              model  color  price_in_euro  power_kw  power_ps  \\\n",
       "0  alfa-romeo     Alfa Romeo GTV    red         1300.0       148       201   \n",
       "1  alfa-romeo  Alfa Romeo Spider  black         4900.0       110       150   \n",
       "2  alfa-romeo  Alfa Romeo Spider    red         7900.0       110       150   \n",
       "\n",
       "  transmission_type fuel_type  fuel_consumption_l_100km  \\\n",
       "0            Manual    Petrol                      10.9   \n",
       "1            Manual    Petrol                       9.5   \n",
       "2            Manual    Petrol                       9.5   \n",
       "\n",
       "   fuel_consumption_g_km  mileage_in_km  registration_month  registration_year  \n",
       "0                  260.0       160500.0                  10               1995  \n",
       "1                  225.0       189500.0                   7               1995  \n",
       "2                  225.0        47307.0                   4               1996  "
      ]
     },
     "execution_count": 20,
     "metadata": {},
     "output_type": "execute_result"
    }
   ],
   "source": [
    "import pandas\n",
    "t = pandas.read_csv(\"data_cars_cleaned.csv\")\n",
    "t.head(3)"
   ]
  },
  {
   "cell_type": "code",
   "execution_count": 24,
   "id": "22237f60-e23b-454d-a3a7-9593620e5293",
   "metadata": {},
   "outputs": [
    {
     "data": {
      "text/plain": [
       "array(['alfa-romeo', 'aston-martin', 'audi', 'bentley', 'bmw', 'cadillac',\n",
       "       'chevrolet', 'chrysler', 'citroen', 'dacia', 'daewoo', 'daihatsu',\n",
       "       'dodge', 'fiat', 'ford', 'honda', 'hyundai', 'infiniti', 'isuzu',\n",
       "       'jaguar', 'jeep', 'kia', 'lada', 'lancia', 'land-rover',\n",
       "       'maserati', 'mazda', 'mercedes-benz', 'mini', 'mitsubishi',\n",
       "       'nissan', 'opel', 'peugeot', 'porsche', 'renault', 'rover', 'saab',\n",
       "       'seat', 'skoda', 'smart', 'ssangyong', 'toyota', 'volkswagen',\n",
       "       'volvo'], dtype=object)"
      ]
     },
     "execution_count": 24,
     "metadata": {},
     "output_type": "execute_result"
    }
   ],
   "source": [
    "t[\"brand\"].unique()"
   ]
  },
  {
   "cell_type": "markdown",
   "id": "4a20261a-91e2-4172-8398-2cd4e0a27bd4",
   "metadata": {},
   "source": [
    "# Codierung kategorialer Werte"
   ]
  },
  {
   "cell_type": "markdown",
   "id": "ec93a5d9-5e9b-4678-bb91-89f0f857dbcd",
   "metadata": {},
   "source": [
    "## Trockenübung zum Thema One-Hot-Encoding"
   ]
  },
  {
   "cell_type": "code",
   "execution_count": 4,
   "id": "1dd44f13-1655-42e5-af0a-d581383ccadb",
   "metadata": {},
   "outputs": [
    {
     "data": {
      "text/html": [
       "<div>\n",
       "<style scoped>\n",
       "    .dataframe tbody tr th:only-of-type {\n",
       "        vertical-align: middle;\n",
       "    }\n",
       "\n",
       "    .dataframe tbody tr th {\n",
       "        vertical-align: top;\n",
       "    }\n",
       "\n",
       "    .dataframe thead th {\n",
       "        text-align: right;\n",
       "    }\n",
       "</style>\n",
       "<table border=\"1\" class=\"dataframe\">\n",
       "  <thead>\n",
       "    <tr style=\"text-align: right;\">\n",
       "      <th></th>\n",
       "      <th>Kundennr</th>\n",
       "      <th>Alter</th>\n",
       "      <th>Lieblingsfarbe</th>\n",
       "    </tr>\n",
       "  </thead>\n",
       "  <tbody>\n",
       "    <tr>\n",
       "      <th>0</th>\n",
       "      <td>101</td>\n",
       "      <td>39</td>\n",
       "      <td>rot</td>\n",
       "    </tr>\n",
       "    <tr>\n",
       "      <th>1</th>\n",
       "      <td>20993</td>\n",
       "      <td>23</td>\n",
       "      <td>grün</td>\n",
       "    </tr>\n",
       "    <tr>\n",
       "      <th>2</th>\n",
       "      <td>330</td>\n",
       "      <td>40</td>\n",
       "      <td>rot</td>\n",
       "    </tr>\n",
       "    <tr>\n",
       "      <th>3</th>\n",
       "      <td>4440</td>\n",
       "      <td>19</td>\n",
       "      <td>blau</td>\n",
       "    </tr>\n",
       "  </tbody>\n",
       "</table>\n",
       "</div>"
      ],
      "text/plain": [
       "   Kundennr  Alter Lieblingsfarbe\n",
       "0       101     39            rot\n",
       "1     20993     23           grün\n",
       "2       330     40            rot\n",
       "3      4440     19           blau"
      ]
     },
     "execution_count": 4,
     "metadata": {},
     "output_type": "execute_result"
    }
   ],
   "source": [
    "d = {\"Kundennr\" : [101,20993,330,4440],\n",
    "     \"Alter\"    : [39, 23,   40, 19],\n",
    "     \"Lieblingsfarbe\" : [\"rot\", \"grün\", \"rot\", \"blau\"]}\n",
    "t2 = pandas.DataFrame(d)\n",
    "t2"
   ]
  },
  {
   "cell_type": "code",
   "execution_count": 5,
   "id": "fa7f234e-bb6f-4180-867a-9fd3f279b14f",
   "metadata": {},
   "outputs": [
    {
     "data": {
      "text/plain": [
       "array(['rot', 'grün', 'blau'], dtype=object)"
      ]
     },
     "execution_count": 5,
     "metadata": {},
     "output_type": "execute_result"
    }
   ],
   "source": [
    "t2[\"Lieblingsfarbe\"].unique()"
   ]
  },
  {
   "cell_type": "code",
   "execution_count": 10,
   "id": "1ec071c5-9cbb-4aa6-a7f0-730ed9a19718",
   "metadata": {},
   "outputs": [
    {
     "data": {
      "text/html": [
       "<div>\n",
       "<style scoped>\n",
       "    .dataframe tbody tr th:only-of-type {\n",
       "        vertical-align: middle;\n",
       "    }\n",
       "\n",
       "    .dataframe tbody tr th {\n",
       "        vertical-align: top;\n",
       "    }\n",
       "\n",
       "    .dataframe thead th {\n",
       "        text-align: right;\n",
       "    }\n",
       "</style>\n",
       "<table border=\"1\" class=\"dataframe\">\n",
       "  <thead>\n",
       "    <tr style=\"text-align: right;\">\n",
       "      <th></th>\n",
       "      <th>Kundennr</th>\n",
       "      <th>Alter</th>\n",
       "      <th>Lieblingsfarbe_blau</th>\n",
       "      <th>Lieblingsfarbe_grün</th>\n",
       "      <th>Lieblingsfarbe_rot</th>\n",
       "    </tr>\n",
       "  </thead>\n",
       "  <tbody>\n",
       "    <tr>\n",
       "      <th>0</th>\n",
       "      <td>101</td>\n",
       "      <td>39</td>\n",
       "      <td>False</td>\n",
       "      <td>False</td>\n",
       "      <td>True</td>\n",
       "    </tr>\n",
       "    <tr>\n",
       "      <th>1</th>\n",
       "      <td>20993</td>\n",
       "      <td>23</td>\n",
       "      <td>False</td>\n",
       "      <td>True</td>\n",
       "      <td>False</td>\n",
       "    </tr>\n",
       "    <tr>\n",
       "      <th>2</th>\n",
       "      <td>330</td>\n",
       "      <td>40</td>\n",
       "      <td>False</td>\n",
       "      <td>False</td>\n",
       "      <td>True</td>\n",
       "    </tr>\n",
       "    <tr>\n",
       "      <th>3</th>\n",
       "      <td>4440</td>\n",
       "      <td>19</td>\n",
       "      <td>True</td>\n",
       "      <td>False</td>\n",
       "      <td>False</td>\n",
       "    </tr>\n",
       "  </tbody>\n",
       "</table>\n",
       "</div>"
      ],
      "text/plain": [
       "   Kundennr  Alter  Lieblingsfarbe_blau  Lieblingsfarbe_grün  \\\n",
       "0       101     39                False                False   \n",
       "1     20993     23                False                 True   \n",
       "2       330     40                False                False   \n",
       "3      4440     19                 True                False   \n",
       "\n",
       "   Lieblingsfarbe_rot  \n",
       "0                True  \n",
       "1               False  \n",
       "2                True  \n",
       "3               False  "
      ]
     },
     "execution_count": 10,
     "metadata": {},
     "output_type": "execute_result"
    }
   ],
   "source": [
    "pandas.get_dummies(t2)"
   ]
  },
  {
   "cell_type": "code",
   "execution_count": 11,
   "id": "3f2d063f-b23a-4367-aa69-8123392079d2",
   "metadata": {},
   "outputs": [
    {
     "data": {
      "text/plain": [
       "'2.1.2'"
      ]
     },
     "execution_count": 11,
     "metadata": {},
     "output_type": "execute_result"
    }
   ],
   "source": [
    "pandas.__version__"
   ]
  },
  {
   "cell_type": "markdown",
   "id": "3cbb5796-359a-4718-a2d8-d96585a4bb2a",
   "metadata": {},
   "source": [
    "## One-Hot-Encoding für unsere Tabelle"
   ]
  },
  {
   "cell_type": "code",
   "execution_count": 16,
   "id": "16b29840-cd5f-410a-95e8-d9f353840418",
   "metadata": {},
   "outputs": [
    {
     "data": {
      "text/plain": [
       "Index(['brand', 'model', 'color', 'price_in_euro', 'power_kw', 'power_ps',\n",
       "       'transmission_type', 'fuel_type', 'fuel_consumption_l_100km',\n",
       "       'fuel_consumption_g_km', 'mileage_in_km', 'registration_month',\n",
       "       'registration_year'],\n",
       "      dtype='object')"
      ]
     },
     "execution_count": 16,
     "metadata": {},
     "output_type": "execute_result"
    }
   ],
   "source": [
    "t.columns"
   ]
  },
  {
   "cell_type": "code",
   "execution_count": 26,
   "id": "5430de1d-1e7f-4dfd-a31d-860362d6f995",
   "metadata": {},
   "outputs": [],
   "source": [
    "t = pandas.get_dummies(t)"
   ]
  },
  {
   "cell_type": "code",
   "execution_count": 19,
   "id": "160af2c5-b9ed-4650-a8db-aa1b45e62bc4",
   "metadata": {},
   "outputs": [
    {
     "data": {
      "text/html": [
       "<div>\n",
       "<style scoped>\n",
       "    .dataframe tbody tr th:only-of-type {\n",
       "        vertical-align: middle;\n",
       "    }\n",
       "\n",
       "    .dataframe tbody tr th {\n",
       "        vertical-align: top;\n",
       "    }\n",
       "\n",
       "    .dataframe thead th {\n",
       "        text-align: right;\n",
       "    }\n",
       "</style>\n",
       "<table border=\"1\" class=\"dataframe\">\n",
       "  <thead>\n",
       "    <tr style=\"text-align: right;\">\n",
       "      <th></th>\n",
       "      <th>price_in_euro</th>\n",
       "      <th>power_kw</th>\n",
       "      <th>power_ps</th>\n",
       "      <th>fuel_consumption_l_100km</th>\n",
       "      <th>fuel_consumption_g_km</th>\n",
       "      <th>mileage_in_km</th>\n",
       "      <th>registration_month</th>\n",
       "      <th>registration_year</th>\n",
       "      <th>brand_alfa-romeo</th>\n",
       "      <th>brand_aston-martin</th>\n",
       "      <th>...</th>\n",
       "      <th>fuel_type_Diesel</th>\n",
       "      <th>fuel_type_Diesel Hybrid</th>\n",
       "      <th>fuel_type_Electric</th>\n",
       "      <th>fuel_type_Ethanol</th>\n",
       "      <th>fuel_type_Hybrid</th>\n",
       "      <th>fuel_type_Hydrogen</th>\n",
       "      <th>fuel_type_LPG</th>\n",
       "      <th>fuel_type_Other</th>\n",
       "      <th>fuel_type_Petrol</th>\n",
       "      <th>fuel_type_Unknown</th>\n",
       "    </tr>\n",
       "  </thead>\n",
       "  <tbody>\n",
       "    <tr>\n",
       "      <th>0</th>\n",
       "      <td>1300.0</td>\n",
       "      <td>148</td>\n",
       "      <td>201</td>\n",
       "      <td>10.9</td>\n",
       "      <td>260.0</td>\n",
       "      <td>160500.0</td>\n",
       "      <td>10</td>\n",
       "      <td>1995</td>\n",
       "      <td>True</td>\n",
       "      <td>False</td>\n",
       "      <td>...</td>\n",
       "      <td>False</td>\n",
       "      <td>False</td>\n",
       "      <td>False</td>\n",
       "      <td>False</td>\n",
       "      <td>False</td>\n",
       "      <td>False</td>\n",
       "      <td>False</td>\n",
       "      <td>False</td>\n",
       "      <td>True</td>\n",
       "      <td>False</td>\n",
       "    </tr>\n",
       "    <tr>\n",
       "      <th>1</th>\n",
       "      <td>4900.0</td>\n",
       "      <td>110</td>\n",
       "      <td>150</td>\n",
       "      <td>9.5</td>\n",
       "      <td>225.0</td>\n",
       "      <td>189500.0</td>\n",
       "      <td>7</td>\n",
       "      <td>1995</td>\n",
       "      <td>True</td>\n",
       "      <td>False</td>\n",
       "      <td>...</td>\n",
       "      <td>False</td>\n",
       "      <td>False</td>\n",
       "      <td>False</td>\n",
       "      <td>False</td>\n",
       "      <td>False</td>\n",
       "      <td>False</td>\n",
       "      <td>False</td>\n",
       "      <td>False</td>\n",
       "      <td>True</td>\n",
       "      <td>False</td>\n",
       "    </tr>\n",
       "    <tr>\n",
       "      <th>2</th>\n",
       "      <td>7900.0</td>\n",
       "      <td>110</td>\n",
       "      <td>150</td>\n",
       "      <td>9.5</td>\n",
       "      <td>225.0</td>\n",
       "      <td>47307.0</td>\n",
       "      <td>4</td>\n",
       "      <td>1996</td>\n",
       "      <td>True</td>\n",
       "      <td>False</td>\n",
       "      <td>...</td>\n",
       "      <td>False</td>\n",
       "      <td>False</td>\n",
       "      <td>False</td>\n",
       "      <td>False</td>\n",
       "      <td>False</td>\n",
       "      <td>False</td>\n",
       "      <td>False</td>\n",
       "      <td>False</td>\n",
       "      <td>True</td>\n",
       "      <td>False</td>\n",
       "    </tr>\n",
       "    <tr>\n",
       "      <th>3</th>\n",
       "      <td>5500.0</td>\n",
       "      <td>132</td>\n",
       "      <td>179</td>\n",
       "      <td>13.4</td>\n",
       "      <td>320.0</td>\n",
       "      <td>168000.0</td>\n",
       "      <td>7</td>\n",
       "      <td>1996</td>\n",
       "      <td>True</td>\n",
       "      <td>False</td>\n",
       "      <td>...</td>\n",
       "      <td>False</td>\n",
       "      <td>False</td>\n",
       "      <td>False</td>\n",
       "      <td>False</td>\n",
       "      <td>False</td>\n",
       "      <td>False</td>\n",
       "      <td>False</td>\n",
       "      <td>False</td>\n",
       "      <td>True</td>\n",
       "      <td>False</td>\n",
       "    </tr>\n",
       "    <tr>\n",
       "      <th>4</th>\n",
       "      <td>6976.0</td>\n",
       "      <td>110</td>\n",
       "      <td>150</td>\n",
       "      <td>9.2</td>\n",
       "      <td>220.0</td>\n",
       "      <td>99000.0</td>\n",
       "      <td>1</td>\n",
       "      <td>1996</td>\n",
       "      <td>True</td>\n",
       "      <td>False</td>\n",
       "      <td>...</td>\n",
       "      <td>False</td>\n",
       "      <td>False</td>\n",
       "      <td>False</td>\n",
       "      <td>False</td>\n",
       "      <td>False</td>\n",
       "      <td>False</td>\n",
       "      <td>False</td>\n",
       "      <td>False</td>\n",
       "      <td>True</td>\n",
       "      <td>False</td>\n",
       "    </tr>\n",
       "    <tr>\n",
       "      <th>...</th>\n",
       "      <td>...</td>\n",
       "      <td>...</td>\n",
       "      <td>...</td>\n",
       "      <td>...</td>\n",
       "      <td>...</td>\n",
       "      <td>...</td>\n",
       "      <td>...</td>\n",
       "      <td>...</td>\n",
       "      <td>...</td>\n",
       "      <td>...</td>\n",
       "      <td>...</td>\n",
       "      <td>...</td>\n",
       "      <td>...</td>\n",
       "      <td>...</td>\n",
       "      <td>...</td>\n",
       "      <td>...</td>\n",
       "      <td>...</td>\n",
       "      <td>...</td>\n",
       "      <td>...</td>\n",
       "      <td>...</td>\n",
       "      <td>...</td>\n",
       "    </tr>\n",
       "    <tr>\n",
       "      <th>162516</th>\n",
       "      <td>37900.0</td>\n",
       "      <td>120</td>\n",
       "      <td>163</td>\n",
       "      <td>6.6</td>\n",
       "      <td>166.0</td>\n",
       "      <td>2145.0</td>\n",
       "      <td>2</td>\n",
       "      <td>2023</td>\n",
       "      <td>False</td>\n",
       "      <td>False</td>\n",
       "      <td>...</td>\n",
       "      <td>False</td>\n",
       "      <td>False</td>\n",
       "      <td>False</td>\n",
       "      <td>False</td>\n",
       "      <td>False</td>\n",
       "      <td>False</td>\n",
       "      <td>False</td>\n",
       "      <td>False</td>\n",
       "      <td>True</td>\n",
       "      <td>False</td>\n",
       "    </tr>\n",
       "    <tr>\n",
       "      <th>162517</th>\n",
       "      <td>59890.0</td>\n",
       "      <td>145</td>\n",
       "      <td>197</td>\n",
       "      <td>5.5</td>\n",
       "      <td>144.0</td>\n",
       "      <td>50.0</td>\n",
       "      <td>2</td>\n",
       "      <td>2023</td>\n",
       "      <td>False</td>\n",
       "      <td>False</td>\n",
       "      <td>...</td>\n",
       "      <td>True</td>\n",
       "      <td>False</td>\n",
       "      <td>False</td>\n",
       "      <td>False</td>\n",
       "      <td>False</td>\n",
       "      <td>False</td>\n",
       "      <td>False</td>\n",
       "      <td>False</td>\n",
       "      <td>False</td>\n",
       "      <td>False</td>\n",
       "    </tr>\n",
       "    <tr>\n",
       "      <th>162518</th>\n",
       "      <td>37995.0</td>\n",
       "      <td>120</td>\n",
       "      <td>163</td>\n",
       "      <td>6.7</td>\n",
       "      <td>152.0</td>\n",
       "      <td>2100.0</td>\n",
       "      <td>3</td>\n",
       "      <td>2023</td>\n",
       "      <td>False</td>\n",
       "      <td>False</td>\n",
       "      <td>...</td>\n",
       "      <td>False</td>\n",
       "      <td>False</td>\n",
       "      <td>False</td>\n",
       "      <td>False</td>\n",
       "      <td>False</td>\n",
       "      <td>False</td>\n",
       "      <td>False</td>\n",
       "      <td>False</td>\n",
       "      <td>True</td>\n",
       "      <td>False</td>\n",
       "    </tr>\n",
       "    <tr>\n",
       "      <th>162519</th>\n",
       "      <td>55400.0</td>\n",
       "      <td>145</td>\n",
       "      <td>197</td>\n",
       "      <td>5.6</td>\n",
       "      <td>142.0</td>\n",
       "      <td>5000.0</td>\n",
       "      <td>5</td>\n",
       "      <td>2023</td>\n",
       "      <td>False</td>\n",
       "      <td>False</td>\n",
       "      <td>...</td>\n",
       "      <td>True</td>\n",
       "      <td>False</td>\n",
       "      <td>False</td>\n",
       "      <td>False</td>\n",
       "      <td>False</td>\n",
       "      <td>False</td>\n",
       "      <td>False</td>\n",
       "      <td>False</td>\n",
       "      <td>False</td>\n",
       "      <td>False</td>\n",
       "    </tr>\n",
       "    <tr>\n",
       "      <th>162520</th>\n",
       "      <td>54500.0</td>\n",
       "      <td>145</td>\n",
       "      <td>197</td>\n",
       "      <td>5.6</td>\n",
       "      <td>142.0</td>\n",
       "      <td>5900.0</td>\n",
       "      <td>3</td>\n",
       "      <td>2023</td>\n",
       "      <td>False</td>\n",
       "      <td>False</td>\n",
       "      <td>...</td>\n",
       "      <td>True</td>\n",
       "      <td>False</td>\n",
       "      <td>False</td>\n",
       "      <td>False</td>\n",
       "      <td>False</td>\n",
       "      <td>False</td>\n",
       "      <td>False</td>\n",
       "      <td>False</td>\n",
       "      <td>False</td>\n",
       "      <td>False</td>\n",
       "    </tr>\n",
       "  </tbody>\n",
       "</table>\n",
       "<p>162521 rows × 1126 columns</p>\n",
       "</div>"
      ],
      "text/plain": [
       "        price_in_euro  power_kw  power_ps  fuel_consumption_l_100km  \\\n",
       "0              1300.0       148       201                      10.9   \n",
       "1              4900.0       110       150                       9.5   \n",
       "2              7900.0       110       150                       9.5   \n",
       "3              5500.0       132       179                      13.4   \n",
       "4              6976.0       110       150                       9.2   \n",
       "...               ...       ...       ...                       ...   \n",
       "162516        37900.0       120       163                       6.6   \n",
       "162517        59890.0       145       197                       5.5   \n",
       "162518        37995.0       120       163                       6.7   \n",
       "162519        55400.0       145       197                       5.6   \n",
       "162520        54500.0       145       197                       5.6   \n",
       "\n",
       "        fuel_consumption_g_km  mileage_in_km  registration_month  \\\n",
       "0                       260.0       160500.0                  10   \n",
       "1                       225.0       189500.0                   7   \n",
       "2                       225.0        47307.0                   4   \n",
       "3                       320.0       168000.0                   7   \n",
       "4                       220.0        99000.0                   1   \n",
       "...                       ...            ...                 ...   \n",
       "162516                  166.0         2145.0                   2   \n",
       "162517                  144.0           50.0                   2   \n",
       "162518                  152.0         2100.0                   3   \n",
       "162519                  142.0         5000.0                   5   \n",
       "162520                  142.0         5900.0                   3   \n",
       "\n",
       "        registration_year  brand_alfa-romeo  brand_aston-martin  ...  \\\n",
       "0                    1995              True               False  ...   \n",
       "1                    1995              True               False  ...   \n",
       "2                    1996              True               False  ...   \n",
       "3                    1996              True               False  ...   \n",
       "4                    1996              True               False  ...   \n",
       "...                   ...               ...                 ...  ...   \n",
       "162516               2023             False               False  ...   \n",
       "162517               2023             False               False  ...   \n",
       "162518               2023             False               False  ...   \n",
       "162519               2023             False               False  ...   \n",
       "162520               2023             False               False  ...   \n",
       "\n",
       "        fuel_type_Diesel  fuel_type_Diesel Hybrid  fuel_type_Electric  \\\n",
       "0                  False                    False               False   \n",
       "1                  False                    False               False   \n",
       "2                  False                    False               False   \n",
       "3                  False                    False               False   \n",
       "4                  False                    False               False   \n",
       "...                  ...                      ...                 ...   \n",
       "162516             False                    False               False   \n",
       "162517              True                    False               False   \n",
       "162518             False                    False               False   \n",
       "162519              True                    False               False   \n",
       "162520              True                    False               False   \n",
       "\n",
       "        fuel_type_Ethanol  fuel_type_Hybrid  fuel_type_Hydrogen  \\\n",
       "0                   False             False               False   \n",
       "1                   False             False               False   \n",
       "2                   False             False               False   \n",
       "3                   False             False               False   \n",
       "4                   False             False               False   \n",
       "...                   ...               ...                 ...   \n",
       "162516              False             False               False   \n",
       "162517              False             False               False   \n",
       "162518              False             False               False   \n",
       "162519              False             False               False   \n",
       "162520              False             False               False   \n",
       "\n",
       "        fuel_type_LPG  fuel_type_Other  fuel_type_Petrol  fuel_type_Unknown  \n",
       "0               False            False              True              False  \n",
       "1               False            False              True              False  \n",
       "2               False            False              True              False  \n",
       "3               False            False              True              False  \n",
       "4               False            False              True              False  \n",
       "...               ...              ...               ...                ...  \n",
       "162516          False            False              True              False  \n",
       "162517          False            False             False              False  \n",
       "162518          False            False              True              False  \n",
       "162519          False            False             False              False  \n",
       "162520          False            False             False              False  \n",
       "\n",
       "[162521 rows x 1126 columns]"
      ]
     },
     "execution_count": 19,
     "metadata": {},
     "output_type": "execute_result"
    }
   ],
   "source": [
    "t"
   ]
  },
  {
   "cell_type": "markdown",
   "id": "4de96f4b-462a-423b-9185-cdf149480b60",
   "metadata": {},
   "source": [
    "# Daten fürs ML vorbereiten"
   ]
  },
  {
   "cell_type": "markdown",
   "id": "bf60cfa8-073c-4793-8812-6974dbaddc77",
   "metadata": {},
   "source": [
    "## Input-/Output-Split"
   ]
  },
  {
   "cell_type": "code",
   "execution_count": 27,
   "id": "240e3ca8-4fb4-4999-9009-2cd33e652a0d",
   "metadata": {},
   "outputs": [
    {
     "data": {
      "text/html": [
       "<div>\n",
       "<style scoped>\n",
       "    .dataframe tbody tr th:only-of-type {\n",
       "        vertical-align: middle;\n",
       "    }\n",
       "\n",
       "    .dataframe tbody tr th {\n",
       "        vertical-align: top;\n",
       "    }\n",
       "\n",
       "    .dataframe thead th {\n",
       "        text-align: right;\n",
       "    }\n",
       "</style>\n",
       "<table border=\"1\" class=\"dataframe\">\n",
       "  <thead>\n",
       "    <tr style=\"text-align: right;\">\n",
       "      <th></th>\n",
       "      <th>power_kw</th>\n",
       "      <th>power_ps</th>\n",
       "      <th>fuel_consumption_l_100km</th>\n",
       "      <th>fuel_consumption_g_km</th>\n",
       "      <th>mileage_in_km</th>\n",
       "      <th>registration_month</th>\n",
       "      <th>registration_year</th>\n",
       "      <th>brand_alfa-romeo</th>\n",
       "      <th>brand_aston-martin</th>\n",
       "      <th>brand_audi</th>\n",
       "      <th>...</th>\n",
       "      <th>fuel_type_Diesel</th>\n",
       "      <th>fuel_type_Diesel Hybrid</th>\n",
       "      <th>fuel_type_Electric</th>\n",
       "      <th>fuel_type_Ethanol</th>\n",
       "      <th>fuel_type_Hybrid</th>\n",
       "      <th>fuel_type_Hydrogen</th>\n",
       "      <th>fuel_type_LPG</th>\n",
       "      <th>fuel_type_Other</th>\n",
       "      <th>fuel_type_Petrol</th>\n",
       "      <th>fuel_type_Unknown</th>\n",
       "    </tr>\n",
       "  </thead>\n",
       "  <tbody>\n",
       "    <tr>\n",
       "      <th>0</th>\n",
       "      <td>148</td>\n",
       "      <td>201</td>\n",
       "      <td>10.9</td>\n",
       "      <td>260.0</td>\n",
       "      <td>160500.0</td>\n",
       "      <td>10</td>\n",
       "      <td>1995</td>\n",
       "      <td>True</td>\n",
       "      <td>False</td>\n",
       "      <td>False</td>\n",
       "      <td>...</td>\n",
       "      <td>False</td>\n",
       "      <td>False</td>\n",
       "      <td>False</td>\n",
       "      <td>False</td>\n",
       "      <td>False</td>\n",
       "      <td>False</td>\n",
       "      <td>False</td>\n",
       "      <td>False</td>\n",
       "      <td>True</td>\n",
       "      <td>False</td>\n",
       "    </tr>\n",
       "    <tr>\n",
       "      <th>1</th>\n",
       "      <td>110</td>\n",
       "      <td>150</td>\n",
       "      <td>9.5</td>\n",
       "      <td>225.0</td>\n",
       "      <td>189500.0</td>\n",
       "      <td>7</td>\n",
       "      <td>1995</td>\n",
       "      <td>True</td>\n",
       "      <td>False</td>\n",
       "      <td>False</td>\n",
       "      <td>...</td>\n",
       "      <td>False</td>\n",
       "      <td>False</td>\n",
       "      <td>False</td>\n",
       "      <td>False</td>\n",
       "      <td>False</td>\n",
       "      <td>False</td>\n",
       "      <td>False</td>\n",
       "      <td>False</td>\n",
       "      <td>True</td>\n",
       "      <td>False</td>\n",
       "    </tr>\n",
       "    <tr>\n",
       "      <th>2</th>\n",
       "      <td>110</td>\n",
       "      <td>150</td>\n",
       "      <td>9.5</td>\n",
       "      <td>225.0</td>\n",
       "      <td>47307.0</td>\n",
       "      <td>4</td>\n",
       "      <td>1996</td>\n",
       "      <td>True</td>\n",
       "      <td>False</td>\n",
       "      <td>False</td>\n",
       "      <td>...</td>\n",
       "      <td>False</td>\n",
       "      <td>False</td>\n",
       "      <td>False</td>\n",
       "      <td>False</td>\n",
       "      <td>False</td>\n",
       "      <td>False</td>\n",
       "      <td>False</td>\n",
       "      <td>False</td>\n",
       "      <td>True</td>\n",
       "      <td>False</td>\n",
       "    </tr>\n",
       "    <tr>\n",
       "      <th>3</th>\n",
       "      <td>132</td>\n",
       "      <td>179</td>\n",
       "      <td>13.4</td>\n",
       "      <td>320.0</td>\n",
       "      <td>168000.0</td>\n",
       "      <td>7</td>\n",
       "      <td>1996</td>\n",
       "      <td>True</td>\n",
       "      <td>False</td>\n",
       "      <td>False</td>\n",
       "      <td>...</td>\n",
       "      <td>False</td>\n",
       "      <td>False</td>\n",
       "      <td>False</td>\n",
       "      <td>False</td>\n",
       "      <td>False</td>\n",
       "      <td>False</td>\n",
       "      <td>False</td>\n",
       "      <td>False</td>\n",
       "      <td>True</td>\n",
       "      <td>False</td>\n",
       "    </tr>\n",
       "    <tr>\n",
       "      <th>4</th>\n",
       "      <td>110</td>\n",
       "      <td>150</td>\n",
       "      <td>9.2</td>\n",
       "      <td>220.0</td>\n",
       "      <td>99000.0</td>\n",
       "      <td>1</td>\n",
       "      <td>1996</td>\n",
       "      <td>True</td>\n",
       "      <td>False</td>\n",
       "      <td>False</td>\n",
       "      <td>...</td>\n",
       "      <td>False</td>\n",
       "      <td>False</td>\n",
       "      <td>False</td>\n",
       "      <td>False</td>\n",
       "      <td>False</td>\n",
       "      <td>False</td>\n",
       "      <td>False</td>\n",
       "      <td>False</td>\n",
       "      <td>True</td>\n",
       "      <td>False</td>\n",
       "    </tr>\n",
       "    <tr>\n",
       "      <th>...</th>\n",
       "      <td>...</td>\n",
       "      <td>...</td>\n",
       "      <td>...</td>\n",
       "      <td>...</td>\n",
       "      <td>...</td>\n",
       "      <td>...</td>\n",
       "      <td>...</td>\n",
       "      <td>...</td>\n",
       "      <td>...</td>\n",
       "      <td>...</td>\n",
       "      <td>...</td>\n",
       "      <td>...</td>\n",
       "      <td>...</td>\n",
       "      <td>...</td>\n",
       "      <td>...</td>\n",
       "      <td>...</td>\n",
       "      <td>...</td>\n",
       "      <td>...</td>\n",
       "      <td>...</td>\n",
       "      <td>...</td>\n",
       "      <td>...</td>\n",
       "    </tr>\n",
       "    <tr>\n",
       "      <th>162516</th>\n",
       "      <td>120</td>\n",
       "      <td>163</td>\n",
       "      <td>6.6</td>\n",
       "      <td>166.0</td>\n",
       "      <td>2145.0</td>\n",
       "      <td>2</td>\n",
       "      <td>2023</td>\n",
       "      <td>False</td>\n",
       "      <td>False</td>\n",
       "      <td>False</td>\n",
       "      <td>...</td>\n",
       "      <td>False</td>\n",
       "      <td>False</td>\n",
       "      <td>False</td>\n",
       "      <td>False</td>\n",
       "      <td>False</td>\n",
       "      <td>False</td>\n",
       "      <td>False</td>\n",
       "      <td>False</td>\n",
       "      <td>True</td>\n",
       "      <td>False</td>\n",
       "    </tr>\n",
       "    <tr>\n",
       "      <th>162517</th>\n",
       "      <td>145</td>\n",
       "      <td>197</td>\n",
       "      <td>5.5</td>\n",
       "      <td>144.0</td>\n",
       "      <td>50.0</td>\n",
       "      <td>2</td>\n",
       "      <td>2023</td>\n",
       "      <td>False</td>\n",
       "      <td>False</td>\n",
       "      <td>False</td>\n",
       "      <td>...</td>\n",
       "      <td>True</td>\n",
       "      <td>False</td>\n",
       "      <td>False</td>\n",
       "      <td>False</td>\n",
       "      <td>False</td>\n",
       "      <td>False</td>\n",
       "      <td>False</td>\n",
       "      <td>False</td>\n",
       "      <td>False</td>\n",
       "      <td>False</td>\n",
       "    </tr>\n",
       "    <tr>\n",
       "      <th>162518</th>\n",
       "      <td>120</td>\n",
       "      <td>163</td>\n",
       "      <td>6.7</td>\n",
       "      <td>152.0</td>\n",
       "      <td>2100.0</td>\n",
       "      <td>3</td>\n",
       "      <td>2023</td>\n",
       "      <td>False</td>\n",
       "      <td>False</td>\n",
       "      <td>False</td>\n",
       "      <td>...</td>\n",
       "      <td>False</td>\n",
       "      <td>False</td>\n",
       "      <td>False</td>\n",
       "      <td>False</td>\n",
       "      <td>False</td>\n",
       "      <td>False</td>\n",
       "      <td>False</td>\n",
       "      <td>False</td>\n",
       "      <td>True</td>\n",
       "      <td>False</td>\n",
       "    </tr>\n",
       "    <tr>\n",
       "      <th>162519</th>\n",
       "      <td>145</td>\n",
       "      <td>197</td>\n",
       "      <td>5.6</td>\n",
       "      <td>142.0</td>\n",
       "      <td>5000.0</td>\n",
       "      <td>5</td>\n",
       "      <td>2023</td>\n",
       "      <td>False</td>\n",
       "      <td>False</td>\n",
       "      <td>False</td>\n",
       "      <td>...</td>\n",
       "      <td>True</td>\n",
       "      <td>False</td>\n",
       "      <td>False</td>\n",
       "      <td>False</td>\n",
       "      <td>False</td>\n",
       "      <td>False</td>\n",
       "      <td>False</td>\n",
       "      <td>False</td>\n",
       "      <td>False</td>\n",
       "      <td>False</td>\n",
       "    </tr>\n",
       "    <tr>\n",
       "      <th>162520</th>\n",
       "      <td>145</td>\n",
       "      <td>197</td>\n",
       "      <td>5.6</td>\n",
       "      <td>142.0</td>\n",
       "      <td>5900.0</td>\n",
       "      <td>3</td>\n",
       "      <td>2023</td>\n",
       "      <td>False</td>\n",
       "      <td>False</td>\n",
       "      <td>False</td>\n",
       "      <td>...</td>\n",
       "      <td>True</td>\n",
       "      <td>False</td>\n",
       "      <td>False</td>\n",
       "      <td>False</td>\n",
       "      <td>False</td>\n",
       "      <td>False</td>\n",
       "      <td>False</td>\n",
       "      <td>False</td>\n",
       "      <td>False</td>\n",
       "      <td>False</td>\n",
       "    </tr>\n",
       "  </tbody>\n",
       "</table>\n",
       "<p>162521 rows × 1125 columns</p>\n",
       "</div>"
      ],
      "text/plain": [
       "        power_kw  power_ps  fuel_consumption_l_100km  fuel_consumption_g_km  \\\n",
       "0            148       201                      10.9                  260.0   \n",
       "1            110       150                       9.5                  225.0   \n",
       "2            110       150                       9.5                  225.0   \n",
       "3            132       179                      13.4                  320.0   \n",
       "4            110       150                       9.2                  220.0   \n",
       "...          ...       ...                       ...                    ...   \n",
       "162516       120       163                       6.6                  166.0   \n",
       "162517       145       197                       5.5                  144.0   \n",
       "162518       120       163                       6.7                  152.0   \n",
       "162519       145       197                       5.6                  142.0   \n",
       "162520       145       197                       5.6                  142.0   \n",
       "\n",
       "        mileage_in_km  registration_month  registration_year  \\\n",
       "0            160500.0                  10               1995   \n",
       "1            189500.0                   7               1995   \n",
       "2             47307.0                   4               1996   \n",
       "3            168000.0                   7               1996   \n",
       "4             99000.0                   1               1996   \n",
       "...               ...                 ...                ...   \n",
       "162516         2145.0                   2               2023   \n",
       "162517           50.0                   2               2023   \n",
       "162518         2100.0                   3               2023   \n",
       "162519         5000.0                   5               2023   \n",
       "162520         5900.0                   3               2023   \n",
       "\n",
       "        brand_alfa-romeo  brand_aston-martin  brand_audi  ...  \\\n",
       "0                   True               False       False  ...   \n",
       "1                   True               False       False  ...   \n",
       "2                   True               False       False  ...   \n",
       "3                   True               False       False  ...   \n",
       "4                   True               False       False  ...   \n",
       "...                  ...                 ...         ...  ...   \n",
       "162516             False               False       False  ...   \n",
       "162517             False               False       False  ...   \n",
       "162518             False               False       False  ...   \n",
       "162519             False               False       False  ...   \n",
       "162520             False               False       False  ...   \n",
       "\n",
       "        fuel_type_Diesel  fuel_type_Diesel Hybrid  fuel_type_Electric  \\\n",
       "0                  False                    False               False   \n",
       "1                  False                    False               False   \n",
       "2                  False                    False               False   \n",
       "3                  False                    False               False   \n",
       "4                  False                    False               False   \n",
       "...                  ...                      ...                 ...   \n",
       "162516             False                    False               False   \n",
       "162517              True                    False               False   \n",
       "162518             False                    False               False   \n",
       "162519              True                    False               False   \n",
       "162520              True                    False               False   \n",
       "\n",
       "        fuel_type_Ethanol  fuel_type_Hybrid  fuel_type_Hydrogen  \\\n",
       "0                   False             False               False   \n",
       "1                   False             False               False   \n",
       "2                   False             False               False   \n",
       "3                   False             False               False   \n",
       "4                   False             False               False   \n",
       "...                   ...               ...                 ...   \n",
       "162516              False             False               False   \n",
       "162517              False             False               False   \n",
       "162518              False             False               False   \n",
       "162519              False             False               False   \n",
       "162520              False             False               False   \n",
       "\n",
       "        fuel_type_LPG  fuel_type_Other  fuel_type_Petrol  fuel_type_Unknown  \n",
       "0               False            False              True              False  \n",
       "1               False            False              True              False  \n",
       "2               False            False              True              False  \n",
       "3               False            False              True              False  \n",
       "4               False            False              True              False  \n",
       "...               ...              ...               ...                ...  \n",
       "162516          False            False              True              False  \n",
       "162517          False            False             False              False  \n",
       "162518          False            False              True              False  \n",
       "162519          False            False             False              False  \n",
       "162520          False            False             False              False  \n",
       "\n",
       "[162521 rows x 1125 columns]"
      ]
     },
     "execution_count": 27,
     "metadata": {},
     "output_type": "execute_result"
    }
   ],
   "source": [
    "x = t.drop(\"price_in_euro\", axis=\"columns\")\n",
    "x"
   ]
  },
  {
   "cell_type": "code",
   "execution_count": 31,
   "id": "3de5539d-c4e9-4366-8b3e-f2d2198696ab",
   "metadata": {},
   "outputs": [
    {
     "data": {
      "text/plain": [
       "pandas.core.frame.DataFrame"
      ]
     },
     "execution_count": 31,
     "metadata": {},
     "output_type": "execute_result"
    }
   ],
   "source": [
    "type(x)"
   ]
  },
  {
   "cell_type": "code",
   "execution_count": 32,
   "id": "427ae0f8-53c4-4da0-9743-a73cb4d5ae7c",
   "metadata": {},
   "outputs": [],
   "source": [
    "y = t[[\"price_in_euro\"]]"
   ]
  },
  {
   "cell_type": "code",
   "execution_count": 33,
   "id": "3ac7037c-a3f2-4288-b4b8-4d0000cc8312",
   "metadata": {},
   "outputs": [
    {
     "data": {
      "text/plain": [
       "pandas.core.frame.DataFrame"
      ]
     },
     "execution_count": 33,
     "metadata": {},
     "output_type": "execute_result"
    }
   ],
   "source": [
    "type(y)"
   ]
  },
  {
   "cell_type": "code",
   "execution_count": 34,
   "id": "a37d363d-9231-483d-a3da-35297d28466b",
   "metadata": {},
   "outputs": [
    {
     "data": {
      "text/html": [
       "<div>\n",
       "<style scoped>\n",
       "    .dataframe tbody tr th:only-of-type {\n",
       "        vertical-align: middle;\n",
       "    }\n",
       "\n",
       "    .dataframe tbody tr th {\n",
       "        vertical-align: top;\n",
       "    }\n",
       "\n",
       "    .dataframe thead th {\n",
       "        text-align: right;\n",
       "    }\n",
       "</style>\n",
       "<table border=\"1\" class=\"dataframe\">\n",
       "  <thead>\n",
       "    <tr style=\"text-align: right;\">\n",
       "      <th></th>\n",
       "      <th>price_in_euro</th>\n",
       "    </tr>\n",
       "  </thead>\n",
       "  <tbody>\n",
       "    <tr>\n",
       "      <th>0</th>\n",
       "      <td>1300.0</td>\n",
       "    </tr>\n",
       "    <tr>\n",
       "      <th>1</th>\n",
       "      <td>4900.0</td>\n",
       "    </tr>\n",
       "    <tr>\n",
       "      <th>2</th>\n",
       "      <td>7900.0</td>\n",
       "    </tr>\n",
       "    <tr>\n",
       "      <th>3</th>\n",
       "      <td>5500.0</td>\n",
       "    </tr>\n",
       "    <tr>\n",
       "      <th>4</th>\n",
       "      <td>6976.0</td>\n",
       "    </tr>\n",
       "    <tr>\n",
       "      <th>...</th>\n",
       "      <td>...</td>\n",
       "    </tr>\n",
       "    <tr>\n",
       "      <th>162516</th>\n",
       "      <td>37900.0</td>\n",
       "    </tr>\n",
       "    <tr>\n",
       "      <th>162517</th>\n",
       "      <td>59890.0</td>\n",
       "    </tr>\n",
       "    <tr>\n",
       "      <th>162518</th>\n",
       "      <td>37995.0</td>\n",
       "    </tr>\n",
       "    <tr>\n",
       "      <th>162519</th>\n",
       "      <td>55400.0</td>\n",
       "    </tr>\n",
       "    <tr>\n",
       "      <th>162520</th>\n",
       "      <td>54500.0</td>\n",
       "    </tr>\n",
       "  </tbody>\n",
       "</table>\n",
       "<p>162521 rows × 1 columns</p>\n",
       "</div>"
      ],
      "text/plain": [
       "        price_in_euro\n",
       "0              1300.0\n",
       "1              4900.0\n",
       "2              7900.0\n",
       "3              5500.0\n",
       "4              6976.0\n",
       "...               ...\n",
       "162516        37900.0\n",
       "162517        59890.0\n",
       "162518        37995.0\n",
       "162519        55400.0\n",
       "162520        54500.0\n",
       "\n",
       "[162521 rows x 1 columns]"
      ]
     },
     "execution_count": 34,
     "metadata": {},
     "output_type": "execute_result"
    }
   ],
   "source": [
    "y"
   ]
  },
  {
   "cell_type": "markdown",
   "id": "7c1a8f5a-8d1c-4d61-9afd-23d5a7aa82f6",
   "metadata": {},
   "source": [
    "## Train-/Test-Split"
   ]
  },
  {
   "cell_type": "code",
   "execution_count": 38,
   "id": "cfcb3396-50aa-4897-9c96-e7013e9499f1",
   "metadata": {},
   "outputs": [],
   "source": [
    "from sklearn.model_selection import train_test_split"
   ]
  },
  {
   "cell_type": "code",
   "execution_count": 41,
   "id": "1fbcb14f-9a2b-4702-ae0d-33140d434856",
   "metadata": {},
   "outputs": [],
   "source": [
    "x_train, x_test, y_train, y_test = train_test_split(x,y, test_size=0.2)"
   ]
  },
  {
   "cell_type": "code",
   "execution_count": 42,
   "id": "92edfda2-d5a1-43eb-b021-d2db0355f282",
   "metadata": {},
   "outputs": [
    {
     "data": {
      "text/plain": [
       "(130016, 1125)"
      ]
     },
     "execution_count": 42,
     "metadata": {},
     "output_type": "execute_result"
    }
   ],
   "source": [
    "x_train.shape"
   ]
  },
  {
   "cell_type": "code",
   "execution_count": 43,
   "id": "4967f5e9-0f07-4831-a4a1-338c955678c5",
   "metadata": {},
   "outputs": [
    {
     "data": {
      "text/plain": [
       "(32505, 1125)"
      ]
     },
     "execution_count": 43,
     "metadata": {},
     "output_type": "execute_result"
    }
   ],
   "source": [
    "x_test.shape"
   ]
  },
  {
   "cell_type": "code",
   "execution_count": 48,
   "id": "71d84bc8-f1de-47fe-8a66-3205fd58b565",
   "metadata": {},
   "outputs": [
    {
     "data": {
      "text/plain": [
       "130016.8"
      ]
     },
     "execution_count": 48,
     "metadata": {},
     "output_type": "execute_result"
    }
   ],
   "source": [
    "x.shape[0] * 0.8"
   ]
  },
  {
   "cell_type": "code",
   "execution_count": 49,
   "id": "bccb65ae-3e29-4528-8384-deeed235a9d9",
   "metadata": {},
   "outputs": [
    {
     "data": {
      "text/plain": [
       "32504.2"
      ]
     },
     "execution_count": 49,
     "metadata": {},
     "output_type": "execute_result"
    }
   ],
   "source": [
    "x.shape[0] * 0.2"
   ]
  },
  {
   "cell_type": "code",
   "execution_count": 50,
   "id": "8d828a4c-da58-4d5e-b716-239cc481bbad",
   "metadata": {},
   "outputs": [
    {
     "data": {
      "text/plain": [
       "(130016, 1)"
      ]
     },
     "execution_count": 50,
     "metadata": {},
     "output_type": "execute_result"
    }
   ],
   "source": [
    "y_train.shape"
   ]
  },
  {
   "cell_type": "code",
   "execution_count": 51,
   "id": "6aabea8f-a1f5-468e-ab56-0232fb808c80",
   "metadata": {},
   "outputs": [
    {
     "data": {
      "text/plain": [
       "(32505, 1)"
      ]
     },
     "execution_count": 51,
     "metadata": {},
     "output_type": "execute_result"
    }
   ],
   "source": [
    "y_test.shape"
   ]
  },
  {
   "cell_type": "code",
   "execution_count": 55,
   "id": "def6b690-34fd-4750-84e9-035ed0e735f6",
   "metadata": {},
   "outputs": [
    {
     "data": {
      "text/plain": [
       "count    32505.000000\n",
       "mean       155.668451\n",
       "std         70.612551\n",
       "min         14.000000\n",
       "25%        110.000000\n",
       "50%        141.000000\n",
       "75%        184.000000\n",
       "max        810.000000\n",
       "Name: power_ps, dtype: float64"
      ]
     },
     "execution_count": 55,
     "metadata": {},
     "output_type": "execute_result"
    }
   ],
   "source": [
    "x_test[\"power_ps\"].describe()"
   ]
  },
  {
   "cell_type": "code",
   "execution_count": 56,
   "id": "79a80062-7cea-4876-8dd3-a94f786ab676",
   "metadata": {},
   "outputs": [
    {
     "data": {
      "text/plain": [
       "count     32505.000000\n",
       "mean      74396.462852\n",
       "std       58601.156766\n",
       "min           0.000000\n",
       "25%       25000.000000\n",
       "50%       64500.000000\n",
       "75%      114820.000000\n",
       "max      224980.000000\n",
       "Name: mileage_in_km, dtype: float64"
      ]
     },
     "execution_count": 56,
     "metadata": {},
     "output_type": "execute_result"
    }
   ],
   "source": [
    "x_test[\"mileage_in_km\"].describe()"
   ]
  },
  {
   "cell_type": "markdown",
   "id": "fc67a4d7-4eae-4763-a697-85651ffe60ed",
   "metadata": {},
   "source": [
    "## Standardisierung der Merkmale"
   ]
  },
  {
   "cell_type": "code",
   "execution_count": 58,
   "id": "51abbba7-38f4-4166-837a-60ef8734c6c3",
   "metadata": {},
   "outputs": [],
   "source": [
    "from sklearn.preprocessing import StandardScaler\n",
    "\n",
    "scaler_input = StandardScaler()\n",
    "scaler_output = StandardScaler()\n",
    "\n",
    "x_train_scaled = scaler_input.fit_transform(x_train)\n",
    "y_train_scaled = scaler_output.fit_transform(y_train)\n",
    "\n",
    "x_test_scaled = scaler_input.transform(x_test)\n",
    "y_test_scaled = scaler_output.transform(y_test)"
   ]
  },
  {
   "cell_type": "code",
   "execution_count": 63,
   "id": "364cc8f7-3d4a-4a89-bc39-4120b95a97bb",
   "metadata": {},
   "outputs": [
    {
     "data": {
      "text/plain": [
       "array([62, 84, 4.5, ..., False, True, False], dtype=object)"
      ]
     },
     "execution_count": 63,
     "metadata": {},
     "output_type": "execute_result"
    }
   ],
   "source": [
    "x_train.iloc[0].values"
   ]
  },
  {
   "cell_type": "code",
   "execution_count": 62,
   "id": "b5f93e72-94ca-479a-b034-4270b6f0f9c0",
   "metadata": {},
   "outputs": [
    {
     "data": {
      "text/plain": [
       "array([-1.0077799 , -1.01360953, -0.78037557, ..., -0.02038397,\n",
       "        0.79614001, -0.01074168])"
      ]
     },
     "execution_count": 62,
     "metadata": {},
     "output_type": "execute_result"
    }
   ],
   "source": [
    "x_train_scaled[0]"
   ]
  },
  {
   "cell_type": "code",
   "execution_count": 64,
   "id": "c1df5966-2d0c-45e3-8b36-af9607bf1d32",
   "metadata": {},
   "outputs": [
    {
     "data": {
      "text/plain": [
       "1125"
      ]
     },
     "execution_count": 64,
     "metadata": {},
     "output_type": "execute_result"
    }
   ],
   "source": [
    "len(x_train_scaled[0])"
   ]
  },
  {
   "cell_type": "code",
   "execution_count": 67,
   "id": "0e13ae9e-0726-4403-8f18-c72bbfa50d28",
   "metadata": {},
   "outputs": [
    {
     "data": {
      "text/plain": [
       "array([8900.])"
      ]
     },
     "execution_count": 67,
     "metadata": {},
     "output_type": "execute_result"
    }
   ],
   "source": [
    "y_train.iloc[0].values"
   ]
  },
  {
   "cell_type": "code",
   "execution_count": 69,
   "id": "01c21cac-f0f3-405f-9255-3f8a6e0d1b82",
   "metadata": {},
   "outputs": [
    {
     "data": {
      "text/plain": [
       "array([-1.05003499])"
      ]
     },
     "execution_count": 69,
     "metadata": {},
     "output_type": "execute_result"
    }
   ],
   "source": [
    "y_train_scaled[0]"
   ]
  },
  {
   "cell_type": "code",
   "execution_count": null,
   "id": "b4c8373b-5f27-47e3-b24d-00bbd06a3812",
   "metadata": {},
   "outputs": [],
   "source": []
  }
 ],
 "metadata": {
  "kernelspec": {
   "display_name": "Python 3 (ipykernel)",
   "language": "python",
   "name": "python3"
  },
  "language_info": {
   "codemirror_mode": {
    "name": "ipython",
    "version": 3
   },
   "file_extension": ".py",
   "mimetype": "text/x-python",
   "name": "python",
   "nbconvert_exporter": "python",
   "pygments_lexer": "ipython3",
   "version": "3.11.5"
  }
 },
 "nbformat": 4,
 "nbformat_minor": 5
}
