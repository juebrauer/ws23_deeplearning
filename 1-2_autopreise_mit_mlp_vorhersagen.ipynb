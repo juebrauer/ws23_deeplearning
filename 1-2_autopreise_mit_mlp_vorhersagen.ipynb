{
 "cells": [
  {
   "cell_type": "markdown",
   "id": "7e8f7c7f-68e4-4114-a460-82e3fe691990",
   "metadata": {},
   "source": [
    "# Bereinigten Datensatz einlesen"
   ]
  },
  {
   "cell_type": "code",
   "execution_count": 1,
   "id": "f9b2a348-de0b-4e50-bc7d-d57d926ca9cd",
   "metadata": {},
   "outputs": [
    {
     "data": {
      "text/html": [
       "<div>\n",
       "<style scoped>\n",
       "    .dataframe tbody tr th:only-of-type {\n",
       "        vertical-align: middle;\n",
       "    }\n",
       "\n",
       "    .dataframe tbody tr th {\n",
       "        vertical-align: top;\n",
       "    }\n",
       "\n",
       "    .dataframe thead th {\n",
       "        text-align: right;\n",
       "    }\n",
       "</style>\n",
       "<table border=\"1\" class=\"dataframe\">\n",
       "  <thead>\n",
       "    <tr style=\"text-align: right;\">\n",
       "      <th></th>\n",
       "      <th>brand</th>\n",
       "      <th>model</th>\n",
       "      <th>color</th>\n",
       "      <th>price_in_euro</th>\n",
       "      <th>power_kw</th>\n",
       "      <th>power_ps</th>\n",
       "      <th>transmission_type</th>\n",
       "      <th>fuel_type</th>\n",
       "      <th>fuel_consumption_l_100km</th>\n",
       "      <th>fuel_consumption_g_km</th>\n",
       "      <th>mileage_in_km</th>\n",
       "      <th>registration_month</th>\n",
       "      <th>registration_year</th>\n",
       "    </tr>\n",
       "  </thead>\n",
       "  <tbody>\n",
       "    <tr>\n",
       "      <th>0</th>\n",
       "      <td>alfa-romeo</td>\n",
       "      <td>Alfa Romeo GTV</td>\n",
       "      <td>red</td>\n",
       "      <td>1300.0</td>\n",
       "      <td>148</td>\n",
       "      <td>201</td>\n",
       "      <td>Manual</td>\n",
       "      <td>Petrol</td>\n",
       "      <td>10.9</td>\n",
       "      <td>260.0</td>\n",
       "      <td>160500.0</td>\n",
       "      <td>10</td>\n",
       "      <td>1995</td>\n",
       "    </tr>\n",
       "    <tr>\n",
       "      <th>1</th>\n",
       "      <td>alfa-romeo</td>\n",
       "      <td>Alfa Romeo Spider</td>\n",
       "      <td>black</td>\n",
       "      <td>4900.0</td>\n",
       "      <td>110</td>\n",
       "      <td>150</td>\n",
       "      <td>Manual</td>\n",
       "      <td>Petrol</td>\n",
       "      <td>9.5</td>\n",
       "      <td>225.0</td>\n",
       "      <td>189500.0</td>\n",
       "      <td>7</td>\n",
       "      <td>1995</td>\n",
       "    </tr>\n",
       "    <tr>\n",
       "      <th>2</th>\n",
       "      <td>alfa-romeo</td>\n",
       "      <td>Alfa Romeo Spider</td>\n",
       "      <td>red</td>\n",
       "      <td>7900.0</td>\n",
       "      <td>110</td>\n",
       "      <td>150</td>\n",
       "      <td>Manual</td>\n",
       "      <td>Petrol</td>\n",
       "      <td>9.5</td>\n",
       "      <td>225.0</td>\n",
       "      <td>47307.0</td>\n",
       "      <td>4</td>\n",
       "      <td>1996</td>\n",
       "    </tr>\n",
       "  </tbody>\n",
       "</table>\n",
       "</div>"
      ],
      "text/plain": [
       "        brand              model  color  price_in_euro  power_kw  power_ps  \\\n",
       "0  alfa-romeo     Alfa Romeo GTV    red         1300.0       148       201   \n",
       "1  alfa-romeo  Alfa Romeo Spider  black         4900.0       110       150   \n",
       "2  alfa-romeo  Alfa Romeo Spider    red         7900.0       110       150   \n",
       "\n",
       "  transmission_type fuel_type  fuel_consumption_l_100km  \\\n",
       "0            Manual    Petrol                      10.9   \n",
       "1            Manual    Petrol                       9.5   \n",
       "2            Manual    Petrol                       9.5   \n",
       "\n",
       "   fuel_consumption_g_km  mileage_in_km  registration_month  registration_year  \n",
       "0                  260.0       160500.0                  10               1995  \n",
       "1                  225.0       189500.0                   7               1995  \n",
       "2                  225.0        47307.0                   4               1996  "
      ]
     },
     "execution_count": 1,
     "metadata": {},
     "output_type": "execute_result"
    }
   ],
   "source": [
    "import pandas\n",
    "t = pandas.read_csv(\"data_cars_cleaned.csv\")\n",
    "t.head(3)"
   ]
  },
  {
   "cell_type": "code",
   "execution_count": 2,
   "id": "61407c10-7256-450e-b3dc-3d0e1c8e3072",
   "metadata": {},
   "outputs": [
    {
     "data": {
      "text/plain": [
       "(162521, 13)"
      ]
     },
     "execution_count": 2,
     "metadata": {},
     "output_type": "execute_result"
    }
   ],
   "source": [
    "t.shape"
   ]
  },
  {
   "cell_type": "code",
   "execution_count": 7,
   "id": "fb660d00-d8b9-4d40-afe7-dc9a7c247c86",
   "metadata": {},
   "outputs": [
    {
     "data": {
      "text/html": [
       "<div>\n",
       "<style scoped>\n",
       "    .dataframe tbody tr th:only-of-type {\n",
       "        vertical-align: middle;\n",
       "    }\n",
       "\n",
       "    .dataframe tbody tr th {\n",
       "        vertical-align: top;\n",
       "    }\n",
       "\n",
       "    .dataframe thead th {\n",
       "        text-align: right;\n",
       "    }\n",
       "</style>\n",
       "<table border=\"1\" class=\"dataframe\">\n",
       "  <thead>\n",
       "    <tr style=\"text-align: right;\">\n",
       "      <th></th>\n",
       "      <th>brand</th>\n",
       "      <th>model</th>\n",
       "      <th>color</th>\n",
       "      <th>price_in_euro</th>\n",
       "      <th>power_kw</th>\n",
       "      <th>power_ps</th>\n",
       "      <th>transmission_type</th>\n",
       "      <th>fuel_type</th>\n",
       "      <th>fuel_consumption_l_100km</th>\n",
       "      <th>fuel_consumption_g_km</th>\n",
       "      <th>mileage_in_km</th>\n",
       "      <th>registration_month</th>\n",
       "      <th>registration_year</th>\n",
       "    </tr>\n",
       "  </thead>\n",
       "  <tbody>\n",
       "    <tr>\n",
       "      <th>93092</th>\n",
       "      <td>opel</td>\n",
       "      <td>Opel Astra</td>\n",
       "      <td>grey</td>\n",
       "      <td>17200.0</td>\n",
       "      <td>147</td>\n",
       "      <td>200</td>\n",
       "      <td>Manual</td>\n",
       "      <td>Petrol</td>\n",
       "      <td>6.3</td>\n",
       "      <td>144.0</td>\n",
       "      <td>85800.0</td>\n",
       "      <td>12</td>\n",
       "      <td>2018</td>\n",
       "    </tr>\n",
       "    <tr>\n",
       "      <th>71571</th>\n",
       "      <td>mercedes-benz</td>\n",
       "      <td>Mercedes-Benz B 200</td>\n",
       "      <td>black</td>\n",
       "      <td>18800.0</td>\n",
       "      <td>115</td>\n",
       "      <td>156</td>\n",
       "      <td>Automatic</td>\n",
       "      <td>Petrol</td>\n",
       "      <td>5.7</td>\n",
       "      <td>130.0</td>\n",
       "      <td>36653.0</td>\n",
       "      <td>3</td>\n",
       "      <td>2015</td>\n",
       "    </tr>\n",
       "    <tr>\n",
       "      <th>79509</th>\n",
       "      <td>mini</td>\n",
       "      <td>MINI Cooper</td>\n",
       "      <td>black</td>\n",
       "      <td>5999.0</td>\n",
       "      <td>82</td>\n",
       "      <td>111</td>\n",
       "      <td>Manual</td>\n",
       "      <td>Diesel</td>\n",
       "      <td>3.8</td>\n",
       "      <td>101.0</td>\n",
       "      <td>182210.0</td>\n",
       "      <td>12</td>\n",
       "      <td>2012</td>\n",
       "    </tr>\n",
       "    <tr>\n",
       "      <th>104565</th>\n",
       "      <td>peugeot</td>\n",
       "      <td>Peugeot Rifter</td>\n",
       "      <td>white</td>\n",
       "      <td>28450.0</td>\n",
       "      <td>75</td>\n",
       "      <td>102</td>\n",
       "      <td>Manual</td>\n",
       "      <td>Diesel</td>\n",
       "      <td>5.3</td>\n",
       "      <td>139.0</td>\n",
       "      <td>3.0</td>\n",
       "      <td>3</td>\n",
       "      <td>2023</td>\n",
       "    </tr>\n",
       "    <tr>\n",
       "      <th>34517</th>\n",
       "      <td>ford</td>\n",
       "      <td>Ford Focus</td>\n",
       "      <td>silver</td>\n",
       "      <td>1990.0</td>\n",
       "      <td>55</td>\n",
       "      <td>75</td>\n",
       "      <td>Manual</td>\n",
       "      <td>Diesel</td>\n",
       "      <td>5.4</td>\n",
       "      <td>142.0</td>\n",
       "      <td>217000.0</td>\n",
       "      <td>6</td>\n",
       "      <td>2003</td>\n",
       "    </tr>\n",
       "    <tr>\n",
       "      <th>...</th>\n",
       "      <td>...</td>\n",
       "      <td>...</td>\n",
       "      <td>...</td>\n",
       "      <td>...</td>\n",
       "      <td>...</td>\n",
       "      <td>...</td>\n",
       "      <td>...</td>\n",
       "      <td>...</td>\n",
       "      <td>...</td>\n",
       "      <td>...</td>\n",
       "      <td>...</td>\n",
       "      <td>...</td>\n",
       "      <td>...</td>\n",
       "    </tr>\n",
       "    <tr>\n",
       "      <th>141922</th>\n",
       "      <td>volkswagen</td>\n",
       "      <td>Volkswagen Scirocco</td>\n",
       "      <td>black</td>\n",
       "      <td>8499.0</td>\n",
       "      <td>118</td>\n",
       "      <td>160</td>\n",
       "      <td>Automatic</td>\n",
       "      <td>Petrol</td>\n",
       "      <td>6.3</td>\n",
       "      <td>147.0</td>\n",
       "      <td>195900.0</td>\n",
       "      <td>6</td>\n",
       "      <td>2010</td>\n",
       "    </tr>\n",
       "    <tr>\n",
       "      <th>56893</th>\n",
       "      <td>kia</td>\n",
       "      <td>Kia Stonic</td>\n",
       "      <td>grey</td>\n",
       "      <td>16750.0</td>\n",
       "      <td>74</td>\n",
       "      <td>101</td>\n",
       "      <td>Manual</td>\n",
       "      <td>Petrol</td>\n",
       "      <td>5.2</td>\n",
       "      <td>120.0</td>\n",
       "      <td>19934.0</td>\n",
       "      <td>8</td>\n",
       "      <td>2020</td>\n",
       "    </tr>\n",
       "    <tr>\n",
       "      <th>71949</th>\n",
       "      <td>mercedes-benz</td>\n",
       "      <td>Mercedes-Benz CLA 45 AMG</td>\n",
       "      <td>violet</td>\n",
       "      <td>29700.0</td>\n",
       "      <td>280</td>\n",
       "      <td>381</td>\n",
       "      <td>Automatic</td>\n",
       "      <td>Petrol</td>\n",
       "      <td>6.9</td>\n",
       "      <td>162.0</td>\n",
       "      <td>118400.0</td>\n",
       "      <td>10</td>\n",
       "      <td>2015</td>\n",
       "    </tr>\n",
       "    <tr>\n",
       "      <th>54618</th>\n",
       "      <td>kia</td>\n",
       "      <td>Kia Venga</td>\n",
       "      <td>black</td>\n",
       "      <td>6590.0</td>\n",
       "      <td>66</td>\n",
       "      <td>90</td>\n",
       "      <td>Manual</td>\n",
       "      <td>Petrol</td>\n",
       "      <td>6.2</td>\n",
       "      <td>147.0</td>\n",
       "      <td>88289.0</td>\n",
       "      <td>3</td>\n",
       "      <td>2011</td>\n",
       "    </tr>\n",
       "    <tr>\n",
       "      <th>6100</th>\n",
       "      <td>audi</td>\n",
       "      <td>Audi A3</td>\n",
       "      <td>silver</td>\n",
       "      <td>13300.0</td>\n",
       "      <td>110</td>\n",
       "      <td>150</td>\n",
       "      <td>Automatic</td>\n",
       "      <td>Hybrid</td>\n",
       "      <td>1.5</td>\n",
       "      <td>35.0</td>\n",
       "      <td>76264.0</td>\n",
       "      <td>2</td>\n",
       "      <td>2015</td>\n",
       "    </tr>\n",
       "  </tbody>\n",
       "</table>\n",
       "<p>16252 rows × 13 columns</p>\n",
       "</div>"
      ],
      "text/plain": [
       "                brand                     model   color  price_in_euro  \\\n",
       "93092            opel                Opel Astra    grey        17200.0   \n",
       "71571   mercedes-benz       Mercedes-Benz B 200   black        18800.0   \n",
       "79509            mini               MINI Cooper   black         5999.0   \n",
       "104565        peugeot            Peugeot Rifter   white        28450.0   \n",
       "34517            ford                Ford Focus  silver         1990.0   \n",
       "...               ...                       ...     ...            ...   \n",
       "141922     volkswagen       Volkswagen Scirocco   black         8499.0   \n",
       "56893             kia                Kia Stonic    grey        16750.0   \n",
       "71949   mercedes-benz  Mercedes-Benz CLA 45 AMG  violet        29700.0   \n",
       "54618             kia                 Kia Venga   black         6590.0   \n",
       "6100             audi                   Audi A3  silver        13300.0   \n",
       "\n",
       "        power_kw  power_ps transmission_type fuel_type  \\\n",
       "93092        147       200            Manual    Petrol   \n",
       "71571        115       156         Automatic    Petrol   \n",
       "79509         82       111            Manual    Diesel   \n",
       "104565        75       102            Manual    Diesel   \n",
       "34517         55        75            Manual    Diesel   \n",
       "...          ...       ...               ...       ...   \n",
       "141922       118       160         Automatic    Petrol   \n",
       "56893         74       101            Manual    Petrol   \n",
       "71949        280       381         Automatic    Petrol   \n",
       "54618         66        90            Manual    Petrol   \n",
       "6100         110       150         Automatic    Hybrid   \n",
       "\n",
       "        fuel_consumption_l_100km  fuel_consumption_g_km  mileage_in_km  \\\n",
       "93092                        6.3                  144.0        85800.0   \n",
       "71571                        5.7                  130.0        36653.0   \n",
       "79509                        3.8                  101.0       182210.0   \n",
       "104565                       5.3                  139.0            3.0   \n",
       "34517                        5.4                  142.0       217000.0   \n",
       "...                          ...                    ...            ...   \n",
       "141922                       6.3                  147.0       195900.0   \n",
       "56893                        5.2                  120.0        19934.0   \n",
       "71949                        6.9                  162.0       118400.0   \n",
       "54618                        6.2                  147.0        88289.0   \n",
       "6100                         1.5                   35.0        76264.0   \n",
       "\n",
       "        registration_month  registration_year  \n",
       "93092                   12               2018  \n",
       "71571                    3               2015  \n",
       "79509                   12               2012  \n",
       "104565                   3               2023  \n",
       "34517                    6               2003  \n",
       "...                    ...                ...  \n",
       "141922                   6               2010  \n",
       "56893                    8               2020  \n",
       "71949                   10               2015  \n",
       "54618                    3               2011  \n",
       "6100                     2               2015  \n",
       "\n",
       "[16252 rows x 13 columns]"
      ]
     },
     "execution_count": 7,
     "metadata": {},
     "output_type": "execute_result"
    }
   ],
   "source": [
    "t.sample(frac=0.1)"
   ]
  },
  {
   "cell_type": "code",
   "execution_count": 8,
   "id": "22237f60-e23b-454d-a3a7-9593620e5293",
   "metadata": {},
   "outputs": [
    {
     "data": {
      "text/plain": [
       "array(['alfa-romeo', 'aston-martin', 'audi', 'bentley', 'bmw', 'cadillac',\n",
       "       'chevrolet', 'chrysler', 'citroen', 'dacia', 'daewoo', 'daihatsu',\n",
       "       'dodge', 'fiat', 'ford', 'honda', 'hyundai', 'infiniti', 'isuzu',\n",
       "       'jaguar', 'jeep', 'kia', 'lada', 'lancia', 'land-rover',\n",
       "       'maserati', 'mazda', 'mercedes-benz', 'mini', 'mitsubishi',\n",
       "       'nissan', 'opel', 'peugeot', 'porsche', 'renault', 'rover', 'saab',\n",
       "       'seat', 'skoda', 'smart', 'ssangyong', 'toyota', 'volkswagen',\n",
       "       'volvo'], dtype=object)"
      ]
     },
     "execution_count": 8,
     "metadata": {},
     "output_type": "execute_result"
    }
   ],
   "source": [
    "t[\"brand\"].unique()"
   ]
  },
  {
   "cell_type": "markdown",
   "id": "4a20261a-91e2-4172-8398-2cd4e0a27bd4",
   "metadata": {},
   "source": [
    "# Codierung kategorialer Werte"
   ]
  },
  {
   "cell_type": "markdown",
   "id": "ec93a5d9-5e9b-4678-bb91-89f0f857dbcd",
   "metadata": {},
   "source": [
    "## Trockenübung zum Thema One-Hot-Encoding"
   ]
  },
  {
   "cell_type": "code",
   "execution_count": 9,
   "id": "1dd44f13-1655-42e5-af0a-d581383ccadb",
   "metadata": {},
   "outputs": [
    {
     "data": {
      "text/html": [
       "<div>\n",
       "<style scoped>\n",
       "    .dataframe tbody tr th:only-of-type {\n",
       "        vertical-align: middle;\n",
       "    }\n",
       "\n",
       "    .dataframe tbody tr th {\n",
       "        vertical-align: top;\n",
       "    }\n",
       "\n",
       "    .dataframe thead th {\n",
       "        text-align: right;\n",
       "    }\n",
       "</style>\n",
       "<table border=\"1\" class=\"dataframe\">\n",
       "  <thead>\n",
       "    <tr style=\"text-align: right;\">\n",
       "      <th></th>\n",
       "      <th>Kundennr</th>\n",
       "      <th>Alter</th>\n",
       "      <th>Lieblingsfarbe</th>\n",
       "    </tr>\n",
       "  </thead>\n",
       "  <tbody>\n",
       "    <tr>\n",
       "      <th>0</th>\n",
       "      <td>101</td>\n",
       "      <td>39</td>\n",
       "      <td>rot</td>\n",
       "    </tr>\n",
       "    <tr>\n",
       "      <th>1</th>\n",
       "      <td>20993</td>\n",
       "      <td>23</td>\n",
       "      <td>grün</td>\n",
       "    </tr>\n",
       "    <tr>\n",
       "      <th>2</th>\n",
       "      <td>330</td>\n",
       "      <td>40</td>\n",
       "      <td>rot</td>\n",
       "    </tr>\n",
       "    <tr>\n",
       "      <th>3</th>\n",
       "      <td>4440</td>\n",
       "      <td>19</td>\n",
       "      <td>blau</td>\n",
       "    </tr>\n",
       "  </tbody>\n",
       "</table>\n",
       "</div>"
      ],
      "text/plain": [
       "   Kundennr  Alter Lieblingsfarbe\n",
       "0       101     39            rot\n",
       "1     20993     23           grün\n",
       "2       330     40            rot\n",
       "3      4440     19           blau"
      ]
     },
     "execution_count": 9,
     "metadata": {},
     "output_type": "execute_result"
    }
   ],
   "source": [
    "d = {\"Kundennr\" : [101,20993,330,4440],\n",
    "     \"Alter\"    : [39, 23,   40, 19],\n",
    "     \"Lieblingsfarbe\" : [\"rot\", \"grün\", \"rot\", \"blau\"]}\n",
    "t2 = pandas.DataFrame(d)\n",
    "t2"
   ]
  },
  {
   "cell_type": "code",
   "execution_count": 10,
   "id": "fa7f234e-bb6f-4180-867a-9fd3f279b14f",
   "metadata": {},
   "outputs": [
    {
     "data": {
      "text/plain": [
       "array(['rot', 'grün', 'blau'], dtype=object)"
      ]
     },
     "execution_count": 10,
     "metadata": {},
     "output_type": "execute_result"
    }
   ],
   "source": [
    "t2[\"Lieblingsfarbe\"].unique()"
   ]
  },
  {
   "cell_type": "code",
   "execution_count": 11,
   "id": "1ec071c5-9cbb-4aa6-a7f0-730ed9a19718",
   "metadata": {},
   "outputs": [
    {
     "data": {
      "text/html": [
       "<div>\n",
       "<style scoped>\n",
       "    .dataframe tbody tr th:only-of-type {\n",
       "        vertical-align: middle;\n",
       "    }\n",
       "\n",
       "    .dataframe tbody tr th {\n",
       "        vertical-align: top;\n",
       "    }\n",
       "\n",
       "    .dataframe thead th {\n",
       "        text-align: right;\n",
       "    }\n",
       "</style>\n",
       "<table border=\"1\" class=\"dataframe\">\n",
       "  <thead>\n",
       "    <tr style=\"text-align: right;\">\n",
       "      <th></th>\n",
       "      <th>Kundennr</th>\n",
       "      <th>Alter</th>\n",
       "      <th>Lieblingsfarbe_blau</th>\n",
       "      <th>Lieblingsfarbe_grün</th>\n",
       "      <th>Lieblingsfarbe_rot</th>\n",
       "    </tr>\n",
       "  </thead>\n",
       "  <tbody>\n",
       "    <tr>\n",
       "      <th>0</th>\n",
       "      <td>101</td>\n",
       "      <td>39</td>\n",
       "      <td>False</td>\n",
       "      <td>False</td>\n",
       "      <td>True</td>\n",
       "    </tr>\n",
       "    <tr>\n",
       "      <th>1</th>\n",
       "      <td>20993</td>\n",
       "      <td>23</td>\n",
       "      <td>False</td>\n",
       "      <td>True</td>\n",
       "      <td>False</td>\n",
       "    </tr>\n",
       "    <tr>\n",
       "      <th>2</th>\n",
       "      <td>330</td>\n",
       "      <td>40</td>\n",
       "      <td>False</td>\n",
       "      <td>False</td>\n",
       "      <td>True</td>\n",
       "    </tr>\n",
       "    <tr>\n",
       "      <th>3</th>\n",
       "      <td>4440</td>\n",
       "      <td>19</td>\n",
       "      <td>True</td>\n",
       "      <td>False</td>\n",
       "      <td>False</td>\n",
       "    </tr>\n",
       "  </tbody>\n",
       "</table>\n",
       "</div>"
      ],
      "text/plain": [
       "   Kundennr  Alter  Lieblingsfarbe_blau  Lieblingsfarbe_grün  \\\n",
       "0       101     39                False                False   \n",
       "1     20993     23                False                 True   \n",
       "2       330     40                False                False   \n",
       "3      4440     19                 True                False   \n",
       "\n",
       "   Lieblingsfarbe_rot  \n",
       "0                True  \n",
       "1               False  \n",
       "2                True  \n",
       "3               False  "
      ]
     },
     "execution_count": 11,
     "metadata": {},
     "output_type": "execute_result"
    }
   ],
   "source": [
    "pandas.get_dummies(t2)"
   ]
  },
  {
   "cell_type": "code",
   "execution_count": 12,
   "id": "3f2d063f-b23a-4367-aa69-8123392079d2",
   "metadata": {},
   "outputs": [
    {
     "data": {
      "text/plain": [
       "'2.1.2'"
      ]
     },
     "execution_count": 12,
     "metadata": {},
     "output_type": "execute_result"
    }
   ],
   "source": [
    "pandas.__version__"
   ]
  },
  {
   "cell_type": "markdown",
   "id": "3cbb5796-359a-4718-a2d8-d96585a4bb2a",
   "metadata": {},
   "source": [
    "## One-Hot-Encoding für unsere Tabelle"
   ]
  },
  {
   "cell_type": "code",
   "execution_count": 13,
   "id": "16b29840-cd5f-410a-95e8-d9f353840418",
   "metadata": {},
   "outputs": [
    {
     "data": {
      "text/plain": [
       "Index(['brand', 'model', 'color', 'price_in_euro', 'power_kw', 'power_ps',\n",
       "       'transmission_type', 'fuel_type', 'fuel_consumption_l_100km',\n",
       "       'fuel_consumption_g_km', 'mileage_in_km', 'registration_month',\n",
       "       'registration_year'],\n",
       "      dtype='object')"
      ]
     },
     "execution_count": 13,
     "metadata": {},
     "output_type": "execute_result"
    }
   ],
   "source": [
    "t.columns"
   ]
  },
  {
   "cell_type": "code",
   "execution_count": 14,
   "id": "5430de1d-1e7f-4dfd-a31d-860362d6f995",
   "metadata": {},
   "outputs": [],
   "source": [
    "t = pandas.get_dummies(t)"
   ]
  },
  {
   "cell_type": "code",
   "execution_count": 15,
   "id": "160af2c5-b9ed-4650-a8db-aa1b45e62bc4",
   "metadata": {},
   "outputs": [
    {
     "data": {
      "text/html": [
       "<div>\n",
       "<style scoped>\n",
       "    .dataframe tbody tr th:only-of-type {\n",
       "        vertical-align: middle;\n",
       "    }\n",
       "\n",
       "    .dataframe tbody tr th {\n",
       "        vertical-align: top;\n",
       "    }\n",
       "\n",
       "    .dataframe thead th {\n",
       "        text-align: right;\n",
       "    }\n",
       "</style>\n",
       "<table border=\"1\" class=\"dataframe\">\n",
       "  <thead>\n",
       "    <tr style=\"text-align: right;\">\n",
       "      <th></th>\n",
       "      <th>price_in_euro</th>\n",
       "      <th>power_kw</th>\n",
       "      <th>power_ps</th>\n",
       "      <th>fuel_consumption_l_100km</th>\n",
       "      <th>fuel_consumption_g_km</th>\n",
       "      <th>mileage_in_km</th>\n",
       "      <th>registration_month</th>\n",
       "      <th>registration_year</th>\n",
       "      <th>brand_alfa-romeo</th>\n",
       "      <th>brand_aston-martin</th>\n",
       "      <th>...</th>\n",
       "      <th>fuel_type_Diesel</th>\n",
       "      <th>fuel_type_Diesel Hybrid</th>\n",
       "      <th>fuel_type_Electric</th>\n",
       "      <th>fuel_type_Ethanol</th>\n",
       "      <th>fuel_type_Hybrid</th>\n",
       "      <th>fuel_type_Hydrogen</th>\n",
       "      <th>fuel_type_LPG</th>\n",
       "      <th>fuel_type_Other</th>\n",
       "      <th>fuel_type_Petrol</th>\n",
       "      <th>fuel_type_Unknown</th>\n",
       "    </tr>\n",
       "  </thead>\n",
       "  <tbody>\n",
       "    <tr>\n",
       "      <th>0</th>\n",
       "      <td>1300.0</td>\n",
       "      <td>148</td>\n",
       "      <td>201</td>\n",
       "      <td>10.9</td>\n",
       "      <td>260.0</td>\n",
       "      <td>160500.0</td>\n",
       "      <td>10</td>\n",
       "      <td>1995</td>\n",
       "      <td>True</td>\n",
       "      <td>False</td>\n",
       "      <td>...</td>\n",
       "      <td>False</td>\n",
       "      <td>False</td>\n",
       "      <td>False</td>\n",
       "      <td>False</td>\n",
       "      <td>False</td>\n",
       "      <td>False</td>\n",
       "      <td>False</td>\n",
       "      <td>False</td>\n",
       "      <td>True</td>\n",
       "      <td>False</td>\n",
       "    </tr>\n",
       "    <tr>\n",
       "      <th>1</th>\n",
       "      <td>4900.0</td>\n",
       "      <td>110</td>\n",
       "      <td>150</td>\n",
       "      <td>9.5</td>\n",
       "      <td>225.0</td>\n",
       "      <td>189500.0</td>\n",
       "      <td>7</td>\n",
       "      <td>1995</td>\n",
       "      <td>True</td>\n",
       "      <td>False</td>\n",
       "      <td>...</td>\n",
       "      <td>False</td>\n",
       "      <td>False</td>\n",
       "      <td>False</td>\n",
       "      <td>False</td>\n",
       "      <td>False</td>\n",
       "      <td>False</td>\n",
       "      <td>False</td>\n",
       "      <td>False</td>\n",
       "      <td>True</td>\n",
       "      <td>False</td>\n",
       "    </tr>\n",
       "    <tr>\n",
       "      <th>2</th>\n",
       "      <td>7900.0</td>\n",
       "      <td>110</td>\n",
       "      <td>150</td>\n",
       "      <td>9.5</td>\n",
       "      <td>225.0</td>\n",
       "      <td>47307.0</td>\n",
       "      <td>4</td>\n",
       "      <td>1996</td>\n",
       "      <td>True</td>\n",
       "      <td>False</td>\n",
       "      <td>...</td>\n",
       "      <td>False</td>\n",
       "      <td>False</td>\n",
       "      <td>False</td>\n",
       "      <td>False</td>\n",
       "      <td>False</td>\n",
       "      <td>False</td>\n",
       "      <td>False</td>\n",
       "      <td>False</td>\n",
       "      <td>True</td>\n",
       "      <td>False</td>\n",
       "    </tr>\n",
       "    <tr>\n",
       "      <th>3</th>\n",
       "      <td>5500.0</td>\n",
       "      <td>132</td>\n",
       "      <td>179</td>\n",
       "      <td>13.4</td>\n",
       "      <td>320.0</td>\n",
       "      <td>168000.0</td>\n",
       "      <td>7</td>\n",
       "      <td>1996</td>\n",
       "      <td>True</td>\n",
       "      <td>False</td>\n",
       "      <td>...</td>\n",
       "      <td>False</td>\n",
       "      <td>False</td>\n",
       "      <td>False</td>\n",
       "      <td>False</td>\n",
       "      <td>False</td>\n",
       "      <td>False</td>\n",
       "      <td>False</td>\n",
       "      <td>False</td>\n",
       "      <td>True</td>\n",
       "      <td>False</td>\n",
       "    </tr>\n",
       "    <tr>\n",
       "      <th>4</th>\n",
       "      <td>6976.0</td>\n",
       "      <td>110</td>\n",
       "      <td>150</td>\n",
       "      <td>9.2</td>\n",
       "      <td>220.0</td>\n",
       "      <td>99000.0</td>\n",
       "      <td>1</td>\n",
       "      <td>1996</td>\n",
       "      <td>True</td>\n",
       "      <td>False</td>\n",
       "      <td>...</td>\n",
       "      <td>False</td>\n",
       "      <td>False</td>\n",
       "      <td>False</td>\n",
       "      <td>False</td>\n",
       "      <td>False</td>\n",
       "      <td>False</td>\n",
       "      <td>False</td>\n",
       "      <td>False</td>\n",
       "      <td>True</td>\n",
       "      <td>False</td>\n",
       "    </tr>\n",
       "    <tr>\n",
       "      <th>...</th>\n",
       "      <td>...</td>\n",
       "      <td>...</td>\n",
       "      <td>...</td>\n",
       "      <td>...</td>\n",
       "      <td>...</td>\n",
       "      <td>...</td>\n",
       "      <td>...</td>\n",
       "      <td>...</td>\n",
       "      <td>...</td>\n",
       "      <td>...</td>\n",
       "      <td>...</td>\n",
       "      <td>...</td>\n",
       "      <td>...</td>\n",
       "      <td>...</td>\n",
       "      <td>...</td>\n",
       "      <td>...</td>\n",
       "      <td>...</td>\n",
       "      <td>...</td>\n",
       "      <td>...</td>\n",
       "      <td>...</td>\n",
       "      <td>...</td>\n",
       "    </tr>\n",
       "    <tr>\n",
       "      <th>162516</th>\n",
       "      <td>37900.0</td>\n",
       "      <td>120</td>\n",
       "      <td>163</td>\n",
       "      <td>6.6</td>\n",
       "      <td>166.0</td>\n",
       "      <td>2145.0</td>\n",
       "      <td>2</td>\n",
       "      <td>2023</td>\n",
       "      <td>False</td>\n",
       "      <td>False</td>\n",
       "      <td>...</td>\n",
       "      <td>False</td>\n",
       "      <td>False</td>\n",
       "      <td>False</td>\n",
       "      <td>False</td>\n",
       "      <td>False</td>\n",
       "      <td>False</td>\n",
       "      <td>False</td>\n",
       "      <td>False</td>\n",
       "      <td>True</td>\n",
       "      <td>False</td>\n",
       "    </tr>\n",
       "    <tr>\n",
       "      <th>162517</th>\n",
       "      <td>59890.0</td>\n",
       "      <td>145</td>\n",
       "      <td>197</td>\n",
       "      <td>5.5</td>\n",
       "      <td>144.0</td>\n",
       "      <td>50.0</td>\n",
       "      <td>2</td>\n",
       "      <td>2023</td>\n",
       "      <td>False</td>\n",
       "      <td>False</td>\n",
       "      <td>...</td>\n",
       "      <td>True</td>\n",
       "      <td>False</td>\n",
       "      <td>False</td>\n",
       "      <td>False</td>\n",
       "      <td>False</td>\n",
       "      <td>False</td>\n",
       "      <td>False</td>\n",
       "      <td>False</td>\n",
       "      <td>False</td>\n",
       "      <td>False</td>\n",
       "    </tr>\n",
       "    <tr>\n",
       "      <th>162518</th>\n",
       "      <td>37995.0</td>\n",
       "      <td>120</td>\n",
       "      <td>163</td>\n",
       "      <td>6.7</td>\n",
       "      <td>152.0</td>\n",
       "      <td>2100.0</td>\n",
       "      <td>3</td>\n",
       "      <td>2023</td>\n",
       "      <td>False</td>\n",
       "      <td>False</td>\n",
       "      <td>...</td>\n",
       "      <td>False</td>\n",
       "      <td>False</td>\n",
       "      <td>False</td>\n",
       "      <td>False</td>\n",
       "      <td>False</td>\n",
       "      <td>False</td>\n",
       "      <td>False</td>\n",
       "      <td>False</td>\n",
       "      <td>True</td>\n",
       "      <td>False</td>\n",
       "    </tr>\n",
       "    <tr>\n",
       "      <th>162519</th>\n",
       "      <td>55400.0</td>\n",
       "      <td>145</td>\n",
       "      <td>197</td>\n",
       "      <td>5.6</td>\n",
       "      <td>142.0</td>\n",
       "      <td>5000.0</td>\n",
       "      <td>5</td>\n",
       "      <td>2023</td>\n",
       "      <td>False</td>\n",
       "      <td>False</td>\n",
       "      <td>...</td>\n",
       "      <td>True</td>\n",
       "      <td>False</td>\n",
       "      <td>False</td>\n",
       "      <td>False</td>\n",
       "      <td>False</td>\n",
       "      <td>False</td>\n",
       "      <td>False</td>\n",
       "      <td>False</td>\n",
       "      <td>False</td>\n",
       "      <td>False</td>\n",
       "    </tr>\n",
       "    <tr>\n",
       "      <th>162520</th>\n",
       "      <td>54500.0</td>\n",
       "      <td>145</td>\n",
       "      <td>197</td>\n",
       "      <td>5.6</td>\n",
       "      <td>142.0</td>\n",
       "      <td>5900.0</td>\n",
       "      <td>3</td>\n",
       "      <td>2023</td>\n",
       "      <td>False</td>\n",
       "      <td>False</td>\n",
       "      <td>...</td>\n",
       "      <td>True</td>\n",
       "      <td>False</td>\n",
       "      <td>False</td>\n",
       "      <td>False</td>\n",
       "      <td>False</td>\n",
       "      <td>False</td>\n",
       "      <td>False</td>\n",
       "      <td>False</td>\n",
       "      <td>False</td>\n",
       "      <td>False</td>\n",
       "    </tr>\n",
       "  </tbody>\n",
       "</table>\n",
       "<p>162521 rows × 1126 columns</p>\n",
       "</div>"
      ],
      "text/plain": [
       "        price_in_euro  power_kw  power_ps  fuel_consumption_l_100km  \\\n",
       "0              1300.0       148       201                      10.9   \n",
       "1              4900.0       110       150                       9.5   \n",
       "2              7900.0       110       150                       9.5   \n",
       "3              5500.0       132       179                      13.4   \n",
       "4              6976.0       110       150                       9.2   \n",
       "...               ...       ...       ...                       ...   \n",
       "162516        37900.0       120       163                       6.6   \n",
       "162517        59890.0       145       197                       5.5   \n",
       "162518        37995.0       120       163                       6.7   \n",
       "162519        55400.0       145       197                       5.6   \n",
       "162520        54500.0       145       197                       5.6   \n",
       "\n",
       "        fuel_consumption_g_km  mileage_in_km  registration_month  \\\n",
       "0                       260.0       160500.0                  10   \n",
       "1                       225.0       189500.0                   7   \n",
       "2                       225.0        47307.0                   4   \n",
       "3                       320.0       168000.0                   7   \n",
       "4                       220.0        99000.0                   1   \n",
       "...                       ...            ...                 ...   \n",
       "162516                  166.0         2145.0                   2   \n",
       "162517                  144.0           50.0                   2   \n",
       "162518                  152.0         2100.0                   3   \n",
       "162519                  142.0         5000.0                   5   \n",
       "162520                  142.0         5900.0                   3   \n",
       "\n",
       "        registration_year  brand_alfa-romeo  brand_aston-martin  ...  \\\n",
       "0                    1995              True               False  ...   \n",
       "1                    1995              True               False  ...   \n",
       "2                    1996              True               False  ...   \n",
       "3                    1996              True               False  ...   \n",
       "4                    1996              True               False  ...   \n",
       "...                   ...               ...                 ...  ...   \n",
       "162516               2023             False               False  ...   \n",
       "162517               2023             False               False  ...   \n",
       "162518               2023             False               False  ...   \n",
       "162519               2023             False               False  ...   \n",
       "162520               2023             False               False  ...   \n",
       "\n",
       "        fuel_type_Diesel  fuel_type_Diesel Hybrid  fuel_type_Electric  \\\n",
       "0                  False                    False               False   \n",
       "1                  False                    False               False   \n",
       "2                  False                    False               False   \n",
       "3                  False                    False               False   \n",
       "4                  False                    False               False   \n",
       "...                  ...                      ...                 ...   \n",
       "162516             False                    False               False   \n",
       "162517              True                    False               False   \n",
       "162518             False                    False               False   \n",
       "162519              True                    False               False   \n",
       "162520              True                    False               False   \n",
       "\n",
       "        fuel_type_Ethanol  fuel_type_Hybrid  fuel_type_Hydrogen  \\\n",
       "0                   False             False               False   \n",
       "1                   False             False               False   \n",
       "2                   False             False               False   \n",
       "3                   False             False               False   \n",
       "4                   False             False               False   \n",
       "...                   ...               ...                 ...   \n",
       "162516              False             False               False   \n",
       "162517              False             False               False   \n",
       "162518              False             False               False   \n",
       "162519              False             False               False   \n",
       "162520              False             False               False   \n",
       "\n",
       "        fuel_type_LPG  fuel_type_Other  fuel_type_Petrol  fuel_type_Unknown  \n",
       "0               False            False              True              False  \n",
       "1               False            False              True              False  \n",
       "2               False            False              True              False  \n",
       "3               False            False              True              False  \n",
       "4               False            False              True              False  \n",
       "...               ...              ...               ...                ...  \n",
       "162516          False            False              True              False  \n",
       "162517          False            False             False              False  \n",
       "162518          False            False              True              False  \n",
       "162519          False            False             False              False  \n",
       "162520          False            False             False              False  \n",
       "\n",
       "[162521 rows x 1126 columns]"
      ]
     },
     "execution_count": 15,
     "metadata": {},
     "output_type": "execute_result"
    }
   ],
   "source": [
    "t"
   ]
  },
  {
   "cell_type": "markdown",
   "id": "4de96f4b-462a-423b-9185-cdf149480b60",
   "metadata": {},
   "source": [
    "# Daten fürs ML vorbereiten"
   ]
  },
  {
   "cell_type": "markdown",
   "id": "bf60cfa8-073c-4793-8812-6974dbaddc77",
   "metadata": {},
   "source": [
    "## Input-/Output-Split"
   ]
  },
  {
   "cell_type": "code",
   "execution_count": 16,
   "id": "240e3ca8-4fb4-4999-9009-2cd33e652a0d",
   "metadata": {},
   "outputs": [
    {
     "data": {
      "text/html": [
       "<div>\n",
       "<style scoped>\n",
       "    .dataframe tbody tr th:only-of-type {\n",
       "        vertical-align: middle;\n",
       "    }\n",
       "\n",
       "    .dataframe tbody tr th {\n",
       "        vertical-align: top;\n",
       "    }\n",
       "\n",
       "    .dataframe thead th {\n",
       "        text-align: right;\n",
       "    }\n",
       "</style>\n",
       "<table border=\"1\" class=\"dataframe\">\n",
       "  <thead>\n",
       "    <tr style=\"text-align: right;\">\n",
       "      <th></th>\n",
       "      <th>power_kw</th>\n",
       "      <th>power_ps</th>\n",
       "      <th>fuel_consumption_l_100km</th>\n",
       "      <th>fuel_consumption_g_km</th>\n",
       "      <th>mileage_in_km</th>\n",
       "      <th>registration_month</th>\n",
       "      <th>registration_year</th>\n",
       "      <th>brand_alfa-romeo</th>\n",
       "      <th>brand_aston-martin</th>\n",
       "      <th>brand_audi</th>\n",
       "      <th>...</th>\n",
       "      <th>fuel_type_Diesel</th>\n",
       "      <th>fuel_type_Diesel Hybrid</th>\n",
       "      <th>fuel_type_Electric</th>\n",
       "      <th>fuel_type_Ethanol</th>\n",
       "      <th>fuel_type_Hybrid</th>\n",
       "      <th>fuel_type_Hydrogen</th>\n",
       "      <th>fuel_type_LPG</th>\n",
       "      <th>fuel_type_Other</th>\n",
       "      <th>fuel_type_Petrol</th>\n",
       "      <th>fuel_type_Unknown</th>\n",
       "    </tr>\n",
       "  </thead>\n",
       "  <tbody>\n",
       "    <tr>\n",
       "      <th>0</th>\n",
       "      <td>148</td>\n",
       "      <td>201</td>\n",
       "      <td>10.9</td>\n",
       "      <td>260.0</td>\n",
       "      <td>160500.0</td>\n",
       "      <td>10</td>\n",
       "      <td>1995</td>\n",
       "      <td>True</td>\n",
       "      <td>False</td>\n",
       "      <td>False</td>\n",
       "      <td>...</td>\n",
       "      <td>False</td>\n",
       "      <td>False</td>\n",
       "      <td>False</td>\n",
       "      <td>False</td>\n",
       "      <td>False</td>\n",
       "      <td>False</td>\n",
       "      <td>False</td>\n",
       "      <td>False</td>\n",
       "      <td>True</td>\n",
       "      <td>False</td>\n",
       "    </tr>\n",
       "    <tr>\n",
       "      <th>1</th>\n",
       "      <td>110</td>\n",
       "      <td>150</td>\n",
       "      <td>9.5</td>\n",
       "      <td>225.0</td>\n",
       "      <td>189500.0</td>\n",
       "      <td>7</td>\n",
       "      <td>1995</td>\n",
       "      <td>True</td>\n",
       "      <td>False</td>\n",
       "      <td>False</td>\n",
       "      <td>...</td>\n",
       "      <td>False</td>\n",
       "      <td>False</td>\n",
       "      <td>False</td>\n",
       "      <td>False</td>\n",
       "      <td>False</td>\n",
       "      <td>False</td>\n",
       "      <td>False</td>\n",
       "      <td>False</td>\n",
       "      <td>True</td>\n",
       "      <td>False</td>\n",
       "    </tr>\n",
       "    <tr>\n",
       "      <th>2</th>\n",
       "      <td>110</td>\n",
       "      <td>150</td>\n",
       "      <td>9.5</td>\n",
       "      <td>225.0</td>\n",
       "      <td>47307.0</td>\n",
       "      <td>4</td>\n",
       "      <td>1996</td>\n",
       "      <td>True</td>\n",
       "      <td>False</td>\n",
       "      <td>False</td>\n",
       "      <td>...</td>\n",
       "      <td>False</td>\n",
       "      <td>False</td>\n",
       "      <td>False</td>\n",
       "      <td>False</td>\n",
       "      <td>False</td>\n",
       "      <td>False</td>\n",
       "      <td>False</td>\n",
       "      <td>False</td>\n",
       "      <td>True</td>\n",
       "      <td>False</td>\n",
       "    </tr>\n",
       "    <tr>\n",
       "      <th>3</th>\n",
       "      <td>132</td>\n",
       "      <td>179</td>\n",
       "      <td>13.4</td>\n",
       "      <td>320.0</td>\n",
       "      <td>168000.0</td>\n",
       "      <td>7</td>\n",
       "      <td>1996</td>\n",
       "      <td>True</td>\n",
       "      <td>False</td>\n",
       "      <td>False</td>\n",
       "      <td>...</td>\n",
       "      <td>False</td>\n",
       "      <td>False</td>\n",
       "      <td>False</td>\n",
       "      <td>False</td>\n",
       "      <td>False</td>\n",
       "      <td>False</td>\n",
       "      <td>False</td>\n",
       "      <td>False</td>\n",
       "      <td>True</td>\n",
       "      <td>False</td>\n",
       "    </tr>\n",
       "    <tr>\n",
       "      <th>4</th>\n",
       "      <td>110</td>\n",
       "      <td>150</td>\n",
       "      <td>9.2</td>\n",
       "      <td>220.0</td>\n",
       "      <td>99000.0</td>\n",
       "      <td>1</td>\n",
       "      <td>1996</td>\n",
       "      <td>True</td>\n",
       "      <td>False</td>\n",
       "      <td>False</td>\n",
       "      <td>...</td>\n",
       "      <td>False</td>\n",
       "      <td>False</td>\n",
       "      <td>False</td>\n",
       "      <td>False</td>\n",
       "      <td>False</td>\n",
       "      <td>False</td>\n",
       "      <td>False</td>\n",
       "      <td>False</td>\n",
       "      <td>True</td>\n",
       "      <td>False</td>\n",
       "    </tr>\n",
       "    <tr>\n",
       "      <th>...</th>\n",
       "      <td>...</td>\n",
       "      <td>...</td>\n",
       "      <td>...</td>\n",
       "      <td>...</td>\n",
       "      <td>...</td>\n",
       "      <td>...</td>\n",
       "      <td>...</td>\n",
       "      <td>...</td>\n",
       "      <td>...</td>\n",
       "      <td>...</td>\n",
       "      <td>...</td>\n",
       "      <td>...</td>\n",
       "      <td>...</td>\n",
       "      <td>...</td>\n",
       "      <td>...</td>\n",
       "      <td>...</td>\n",
       "      <td>...</td>\n",
       "      <td>...</td>\n",
       "      <td>...</td>\n",
       "      <td>...</td>\n",
       "      <td>...</td>\n",
       "    </tr>\n",
       "    <tr>\n",
       "      <th>162516</th>\n",
       "      <td>120</td>\n",
       "      <td>163</td>\n",
       "      <td>6.6</td>\n",
       "      <td>166.0</td>\n",
       "      <td>2145.0</td>\n",
       "      <td>2</td>\n",
       "      <td>2023</td>\n",
       "      <td>False</td>\n",
       "      <td>False</td>\n",
       "      <td>False</td>\n",
       "      <td>...</td>\n",
       "      <td>False</td>\n",
       "      <td>False</td>\n",
       "      <td>False</td>\n",
       "      <td>False</td>\n",
       "      <td>False</td>\n",
       "      <td>False</td>\n",
       "      <td>False</td>\n",
       "      <td>False</td>\n",
       "      <td>True</td>\n",
       "      <td>False</td>\n",
       "    </tr>\n",
       "    <tr>\n",
       "      <th>162517</th>\n",
       "      <td>145</td>\n",
       "      <td>197</td>\n",
       "      <td>5.5</td>\n",
       "      <td>144.0</td>\n",
       "      <td>50.0</td>\n",
       "      <td>2</td>\n",
       "      <td>2023</td>\n",
       "      <td>False</td>\n",
       "      <td>False</td>\n",
       "      <td>False</td>\n",
       "      <td>...</td>\n",
       "      <td>True</td>\n",
       "      <td>False</td>\n",
       "      <td>False</td>\n",
       "      <td>False</td>\n",
       "      <td>False</td>\n",
       "      <td>False</td>\n",
       "      <td>False</td>\n",
       "      <td>False</td>\n",
       "      <td>False</td>\n",
       "      <td>False</td>\n",
       "    </tr>\n",
       "    <tr>\n",
       "      <th>162518</th>\n",
       "      <td>120</td>\n",
       "      <td>163</td>\n",
       "      <td>6.7</td>\n",
       "      <td>152.0</td>\n",
       "      <td>2100.0</td>\n",
       "      <td>3</td>\n",
       "      <td>2023</td>\n",
       "      <td>False</td>\n",
       "      <td>False</td>\n",
       "      <td>False</td>\n",
       "      <td>...</td>\n",
       "      <td>False</td>\n",
       "      <td>False</td>\n",
       "      <td>False</td>\n",
       "      <td>False</td>\n",
       "      <td>False</td>\n",
       "      <td>False</td>\n",
       "      <td>False</td>\n",
       "      <td>False</td>\n",
       "      <td>True</td>\n",
       "      <td>False</td>\n",
       "    </tr>\n",
       "    <tr>\n",
       "      <th>162519</th>\n",
       "      <td>145</td>\n",
       "      <td>197</td>\n",
       "      <td>5.6</td>\n",
       "      <td>142.0</td>\n",
       "      <td>5000.0</td>\n",
       "      <td>5</td>\n",
       "      <td>2023</td>\n",
       "      <td>False</td>\n",
       "      <td>False</td>\n",
       "      <td>False</td>\n",
       "      <td>...</td>\n",
       "      <td>True</td>\n",
       "      <td>False</td>\n",
       "      <td>False</td>\n",
       "      <td>False</td>\n",
       "      <td>False</td>\n",
       "      <td>False</td>\n",
       "      <td>False</td>\n",
       "      <td>False</td>\n",
       "      <td>False</td>\n",
       "      <td>False</td>\n",
       "    </tr>\n",
       "    <tr>\n",
       "      <th>162520</th>\n",
       "      <td>145</td>\n",
       "      <td>197</td>\n",
       "      <td>5.6</td>\n",
       "      <td>142.0</td>\n",
       "      <td>5900.0</td>\n",
       "      <td>3</td>\n",
       "      <td>2023</td>\n",
       "      <td>False</td>\n",
       "      <td>False</td>\n",
       "      <td>False</td>\n",
       "      <td>...</td>\n",
       "      <td>True</td>\n",
       "      <td>False</td>\n",
       "      <td>False</td>\n",
       "      <td>False</td>\n",
       "      <td>False</td>\n",
       "      <td>False</td>\n",
       "      <td>False</td>\n",
       "      <td>False</td>\n",
       "      <td>False</td>\n",
       "      <td>False</td>\n",
       "    </tr>\n",
       "  </tbody>\n",
       "</table>\n",
       "<p>162521 rows × 1125 columns</p>\n",
       "</div>"
      ],
      "text/plain": [
       "        power_kw  power_ps  fuel_consumption_l_100km  fuel_consumption_g_km  \\\n",
       "0            148       201                      10.9                  260.0   \n",
       "1            110       150                       9.5                  225.0   \n",
       "2            110       150                       9.5                  225.0   \n",
       "3            132       179                      13.4                  320.0   \n",
       "4            110       150                       9.2                  220.0   \n",
       "...          ...       ...                       ...                    ...   \n",
       "162516       120       163                       6.6                  166.0   \n",
       "162517       145       197                       5.5                  144.0   \n",
       "162518       120       163                       6.7                  152.0   \n",
       "162519       145       197                       5.6                  142.0   \n",
       "162520       145       197                       5.6                  142.0   \n",
       "\n",
       "        mileage_in_km  registration_month  registration_year  \\\n",
       "0            160500.0                  10               1995   \n",
       "1            189500.0                   7               1995   \n",
       "2             47307.0                   4               1996   \n",
       "3            168000.0                   7               1996   \n",
       "4             99000.0                   1               1996   \n",
       "...               ...                 ...                ...   \n",
       "162516         2145.0                   2               2023   \n",
       "162517           50.0                   2               2023   \n",
       "162518         2100.0                   3               2023   \n",
       "162519         5000.0                   5               2023   \n",
       "162520         5900.0                   3               2023   \n",
       "\n",
       "        brand_alfa-romeo  brand_aston-martin  brand_audi  ...  \\\n",
       "0                   True               False       False  ...   \n",
       "1                   True               False       False  ...   \n",
       "2                   True               False       False  ...   \n",
       "3                   True               False       False  ...   \n",
       "4                   True               False       False  ...   \n",
       "...                  ...                 ...         ...  ...   \n",
       "162516             False               False       False  ...   \n",
       "162517             False               False       False  ...   \n",
       "162518             False               False       False  ...   \n",
       "162519             False               False       False  ...   \n",
       "162520             False               False       False  ...   \n",
       "\n",
       "        fuel_type_Diesel  fuel_type_Diesel Hybrid  fuel_type_Electric  \\\n",
       "0                  False                    False               False   \n",
       "1                  False                    False               False   \n",
       "2                  False                    False               False   \n",
       "3                  False                    False               False   \n",
       "4                  False                    False               False   \n",
       "...                  ...                      ...                 ...   \n",
       "162516             False                    False               False   \n",
       "162517              True                    False               False   \n",
       "162518             False                    False               False   \n",
       "162519              True                    False               False   \n",
       "162520              True                    False               False   \n",
       "\n",
       "        fuel_type_Ethanol  fuel_type_Hybrid  fuel_type_Hydrogen  \\\n",
       "0                   False             False               False   \n",
       "1                   False             False               False   \n",
       "2                   False             False               False   \n",
       "3                   False             False               False   \n",
       "4                   False             False               False   \n",
       "...                   ...               ...                 ...   \n",
       "162516              False             False               False   \n",
       "162517              False             False               False   \n",
       "162518              False             False               False   \n",
       "162519              False             False               False   \n",
       "162520              False             False               False   \n",
       "\n",
       "        fuel_type_LPG  fuel_type_Other  fuel_type_Petrol  fuel_type_Unknown  \n",
       "0               False            False              True              False  \n",
       "1               False            False              True              False  \n",
       "2               False            False              True              False  \n",
       "3               False            False              True              False  \n",
       "4               False            False              True              False  \n",
       "...               ...              ...               ...                ...  \n",
       "162516          False            False              True              False  \n",
       "162517          False            False             False              False  \n",
       "162518          False            False              True              False  \n",
       "162519          False            False             False              False  \n",
       "162520          False            False             False              False  \n",
       "\n",
       "[162521 rows x 1125 columns]"
      ]
     },
     "execution_count": 16,
     "metadata": {},
     "output_type": "execute_result"
    }
   ],
   "source": [
    "x = t.drop(\"price_in_euro\", axis=\"columns\")\n",
    "x"
   ]
  },
  {
   "cell_type": "code",
   "execution_count": 17,
   "id": "3de5539d-c4e9-4366-8b3e-f2d2198696ab",
   "metadata": {},
   "outputs": [
    {
     "data": {
      "text/plain": [
       "pandas.core.frame.DataFrame"
      ]
     },
     "execution_count": 17,
     "metadata": {},
     "output_type": "execute_result"
    }
   ],
   "source": [
    "type(x)"
   ]
  },
  {
   "cell_type": "code",
   "execution_count": 24,
   "id": "427ae0f8-53c4-4da0-9743-a73cb4d5ae7c",
   "metadata": {},
   "outputs": [],
   "source": [
    "y = t[  [\"price_in_euro\"]  ]"
   ]
  },
  {
   "cell_type": "code",
   "execution_count": 25,
   "id": "3ac7037c-a3f2-4288-b4b8-4d0000cc8312",
   "metadata": {},
   "outputs": [
    {
     "data": {
      "text/plain": [
       "pandas.core.frame.DataFrame"
      ]
     },
     "execution_count": 25,
     "metadata": {},
     "output_type": "execute_result"
    }
   ],
   "source": [
    "type(y)"
   ]
  },
  {
   "cell_type": "code",
   "execution_count": 26,
   "id": "a37d363d-9231-483d-a3da-35297d28466b",
   "metadata": {},
   "outputs": [
    {
     "data": {
      "text/html": [
       "<div>\n",
       "<style scoped>\n",
       "    .dataframe tbody tr th:only-of-type {\n",
       "        vertical-align: middle;\n",
       "    }\n",
       "\n",
       "    .dataframe tbody tr th {\n",
       "        vertical-align: top;\n",
       "    }\n",
       "\n",
       "    .dataframe thead th {\n",
       "        text-align: right;\n",
       "    }\n",
       "</style>\n",
       "<table border=\"1\" class=\"dataframe\">\n",
       "  <thead>\n",
       "    <tr style=\"text-align: right;\">\n",
       "      <th></th>\n",
       "      <th>price_in_euro</th>\n",
       "    </tr>\n",
       "  </thead>\n",
       "  <tbody>\n",
       "    <tr>\n",
       "      <th>0</th>\n",
       "      <td>1300.0</td>\n",
       "    </tr>\n",
       "    <tr>\n",
       "      <th>1</th>\n",
       "      <td>4900.0</td>\n",
       "    </tr>\n",
       "    <tr>\n",
       "      <th>2</th>\n",
       "      <td>7900.0</td>\n",
       "    </tr>\n",
       "    <tr>\n",
       "      <th>3</th>\n",
       "      <td>5500.0</td>\n",
       "    </tr>\n",
       "    <tr>\n",
       "      <th>4</th>\n",
       "      <td>6976.0</td>\n",
       "    </tr>\n",
       "    <tr>\n",
       "      <th>...</th>\n",
       "      <td>...</td>\n",
       "    </tr>\n",
       "    <tr>\n",
       "      <th>162516</th>\n",
       "      <td>37900.0</td>\n",
       "    </tr>\n",
       "    <tr>\n",
       "      <th>162517</th>\n",
       "      <td>59890.0</td>\n",
       "    </tr>\n",
       "    <tr>\n",
       "      <th>162518</th>\n",
       "      <td>37995.0</td>\n",
       "    </tr>\n",
       "    <tr>\n",
       "      <th>162519</th>\n",
       "      <td>55400.0</td>\n",
       "    </tr>\n",
       "    <tr>\n",
       "      <th>162520</th>\n",
       "      <td>54500.0</td>\n",
       "    </tr>\n",
       "  </tbody>\n",
       "</table>\n",
       "<p>162521 rows × 1 columns</p>\n",
       "</div>"
      ],
      "text/plain": [
       "        price_in_euro\n",
       "0              1300.0\n",
       "1              4900.0\n",
       "2              7900.0\n",
       "3              5500.0\n",
       "4              6976.0\n",
       "...               ...\n",
       "162516        37900.0\n",
       "162517        59890.0\n",
       "162518        37995.0\n",
       "162519        55400.0\n",
       "162520        54500.0\n",
       "\n",
       "[162521 rows x 1 columns]"
      ]
     },
     "execution_count": 26,
     "metadata": {},
     "output_type": "execute_result"
    }
   ],
   "source": [
    "y"
   ]
  },
  {
   "cell_type": "markdown",
   "id": "7c1a8f5a-8d1c-4d61-9afd-23d5a7aa82f6",
   "metadata": {},
   "source": [
    "## Train-/Test-Split"
   ]
  },
  {
   "cell_type": "code",
   "execution_count": 27,
   "id": "cfcb3396-50aa-4897-9c96-e7013e9499f1",
   "metadata": {},
   "outputs": [],
   "source": [
    "from sklearn.model_selection import train_test_split"
   ]
  },
  {
   "cell_type": "code",
   "execution_count": 28,
   "id": "1fbcb14f-9a2b-4702-ae0d-33140d434856",
   "metadata": {},
   "outputs": [],
   "source": [
    "x_train, x_test, y_train, y_test = train_test_split(x,y, test_size=0.2)"
   ]
  },
  {
   "cell_type": "code",
   "execution_count": 29,
   "id": "92edfda2-d5a1-43eb-b021-d2db0355f282",
   "metadata": {},
   "outputs": [
    {
     "data": {
      "text/plain": [
       "(130016, 1125)"
      ]
     },
     "execution_count": 29,
     "metadata": {},
     "output_type": "execute_result"
    }
   ],
   "source": [
    "x_train.shape"
   ]
  },
  {
   "cell_type": "code",
   "execution_count": 30,
   "id": "4967f5e9-0f07-4831-a4a1-338c955678c5",
   "metadata": {},
   "outputs": [
    {
     "data": {
      "text/plain": [
       "(32505, 1125)"
      ]
     },
     "execution_count": 30,
     "metadata": {},
     "output_type": "execute_result"
    }
   ],
   "source": [
    "x_test.shape"
   ]
  },
  {
   "cell_type": "code",
   "execution_count": 31,
   "id": "71d84bc8-f1de-47fe-8a66-3205fd58b565",
   "metadata": {},
   "outputs": [
    {
     "data": {
      "text/plain": [
       "130016.8"
      ]
     },
     "execution_count": 31,
     "metadata": {},
     "output_type": "execute_result"
    }
   ],
   "source": [
    "x.shape[0] * 0.8"
   ]
  },
  {
   "cell_type": "code",
   "execution_count": 32,
   "id": "bccb65ae-3e29-4528-8384-deeed235a9d9",
   "metadata": {},
   "outputs": [
    {
     "data": {
      "text/plain": [
       "32504.2"
      ]
     },
     "execution_count": 32,
     "metadata": {},
     "output_type": "execute_result"
    }
   ],
   "source": [
    "x.shape[0] * 0.2"
   ]
  },
  {
   "cell_type": "code",
   "execution_count": 33,
   "id": "8d828a4c-da58-4d5e-b716-239cc481bbad",
   "metadata": {},
   "outputs": [
    {
     "data": {
      "text/plain": [
       "(130016, 1)"
      ]
     },
     "execution_count": 33,
     "metadata": {},
     "output_type": "execute_result"
    }
   ],
   "source": [
    "y_train.shape"
   ]
  },
  {
   "cell_type": "code",
   "execution_count": 34,
   "id": "6aabea8f-a1f5-468e-ab56-0232fb808c80",
   "metadata": {},
   "outputs": [
    {
     "data": {
      "text/plain": [
       "(32505, 1)"
      ]
     },
     "execution_count": 34,
     "metadata": {},
     "output_type": "execute_result"
    }
   ],
   "source": [
    "# Ground Truth / Grundwahrheit\n",
    "y_test.shape"
   ]
  },
  {
   "cell_type": "code",
   "execution_count": 35,
   "id": "def6b690-34fd-4750-84e9-035ed0e735f6",
   "metadata": {},
   "outputs": [
    {
     "data": {
      "text/plain": [
       "count    32505.000000\n",
       "mean       155.263498\n",
       "std         69.944466\n",
       "min         42.000000\n",
       "25%        110.000000\n",
       "50%        143.000000\n",
       "75%        184.000000\n",
       "max        770.000000\n",
       "Name: power_ps, dtype: float64"
      ]
     },
     "execution_count": 35,
     "metadata": {},
     "output_type": "execute_result"
    }
   ],
   "source": [
    "x_test[\"power_ps\"].describe()"
   ]
  },
  {
   "cell_type": "code",
   "execution_count": 36,
   "id": "79a80062-7cea-4876-8dd3-a94f786ab676",
   "metadata": {},
   "outputs": [
    {
     "data": {
      "text/plain": [
       "count     32505.000000\n",
       "mean      74244.379818\n",
       "std       58801.949848\n",
       "min           0.000000\n",
       "25%       24575.000000\n",
       "50%       64000.000000\n",
       "75%      114449.000000\n",
       "max      224999.000000\n",
       "Name: mileage_in_km, dtype: float64"
      ]
     },
     "execution_count": 36,
     "metadata": {},
     "output_type": "execute_result"
    }
   ],
   "source": [
    "x_test[\"mileage_in_km\"].describe()"
   ]
  },
  {
   "cell_type": "markdown",
   "id": "fc67a4d7-4eae-4763-a697-85651ffe60ed",
   "metadata": {},
   "source": [
    "## Standardisierung der Merkmale"
   ]
  },
  {
   "cell_type": "code",
   "execution_count": 37,
   "id": "51abbba7-38f4-4166-837a-60ef8734c6c3",
   "metadata": {},
   "outputs": [],
   "source": [
    "from sklearn.preprocessing import StandardScaler\n",
    "\n",
    "scaler_input = StandardScaler()\n",
    "scaler_output = StandardScaler()\n",
    "\n",
    "x_train_scaled = scaler_input.fit_transform(x_train)\n",
    "y_train_scaled = scaler_output.fit_transform(y_train)\n",
    "\n",
    "x_test_scaled = scaler_input.transform(x_test)\n",
    "y_test_scaled = scaler_output.transform(y_test)"
   ]
  },
  {
   "cell_type": "code",
   "execution_count": 38,
   "id": "364cc8f7-3d4a-4a89-bc39-4120b95a97bb",
   "metadata": {},
   "outputs": [
    {
     "data": {
      "text/plain": [
       "array([60, 82, 4.2, ..., False, True, False], dtype=object)"
      ]
     },
     "execution_count": 38,
     "metadata": {},
     "output_type": "execute_result"
    }
   ],
   "source": [
    "x_train.iloc[0].values"
   ]
  },
  {
   "cell_type": "code",
   "execution_count": 39,
   "id": "b5f93e72-94ca-479a-b034-4270b6f0f9c0",
   "metadata": {},
   "outputs": [
    {
     "data": {
      "text/plain": [
       "array([-1.04534689, -1.04098246, -0.95088668, ..., -0.02000277,\n",
       "        0.7958048 , -0.01143548])"
      ]
     },
     "execution_count": 39,
     "metadata": {},
     "output_type": "execute_result"
    }
   ],
   "source": [
    "x_train_scaled[0]"
   ]
  },
  {
   "cell_type": "code",
   "execution_count": 40,
   "id": "c1df5966-2d0c-45e3-8b36-af9607bf1d32",
   "metadata": {},
   "outputs": [
    {
     "data": {
      "text/plain": [
       "1125"
      ]
     },
     "execution_count": 40,
     "metadata": {},
     "output_type": "execute_result"
    }
   ],
   "source": [
    "len(x_train_scaled[0])"
   ]
  },
  {
   "cell_type": "code",
   "execution_count": 41,
   "id": "0e13ae9e-0726-4403-8f18-c72bbfa50d28",
   "metadata": {},
   "outputs": [
    {
     "data": {
      "text/plain": [
       "array([10880.])"
      ]
     },
     "execution_count": 41,
     "metadata": {},
     "output_type": "execute_result"
    }
   ],
   "source": [
    "y_train.iloc[0].values"
   ]
  },
  {
   "cell_type": "code",
   "execution_count": 42,
   "id": "01c21cac-f0f3-405f-9255-3f8a6e0d1b82",
   "metadata": {},
   "outputs": [
    {
     "data": {
      "text/plain": [
       "array([-0.88655801])"
      ]
     },
     "execution_count": 42,
     "metadata": {},
     "output_type": "execute_result"
    }
   ],
   "source": [
    "y_train_scaled[0]"
   ]
  },
  {
   "cell_type": "markdown",
   "id": "9a52594f-f94c-473f-b657-796432e2723f",
   "metadata": {},
   "source": [
    "### Überprüfung, ob die Skalierung funktioniert hat"
   ]
  },
  {
   "cell_type": "code",
   "execution_count": 43,
   "id": "efe33c7f-cee4-47f7-a86f-6a661613cd95",
   "metadata": {},
   "outputs": [
    {
     "data": {
      "text/plain": [
       "array([[-1.04534689, -1.04098246, -0.95088668, ..., -0.02000277,\n",
       "         0.7958048 , -0.01143548],\n",
       "       [ 0.62948693,  0.63044988,  1.81224997, ..., -0.02000277,\n",
       "        -1.25658956, -0.01143548],\n",
       "       [-0.5640728 , -0.55938331, -0.95088668, ..., -0.02000277,\n",
       "        -1.25658956, -0.01143548],\n",
       "       ...,\n",
       "       [-0.46781799, -0.47439523,  0.31054527, ..., -0.02000277,\n",
       "         0.7958048 , -0.01143548],\n",
       "       [-0.7758334 , -0.77185353,  0.25047708, ..., -0.02000277,\n",
       "         0.7958048 , -0.01143548],\n",
       "       [ 0.55248308,  0.5454618 , -2.57272776, ..., -0.02000277,\n",
       "        -1.25658956, -0.01143548]])"
      ]
     },
     "execution_count": 43,
     "metadata": {},
     "output_type": "execute_result"
    }
   ],
   "source": [
    "x_train_scaled"
   ]
  },
  {
   "cell_type": "code",
   "execution_count": 44,
   "id": "7821c9ca-650b-4603-85eb-cf2392a43360",
   "metadata": {},
   "outputs": [
    {
     "data": {
      "text/plain": [
       "(130016, 1125)"
      ]
     },
     "execution_count": 44,
     "metadata": {},
     "output_type": "execute_result"
    }
   ],
   "source": [
    "x_train_scaled.shape"
   ]
  },
  {
   "cell_type": "code",
   "execution_count": 45,
   "id": "7070af7b-2287-46a2-a4cd-1fc530223fa0",
   "metadata": {},
   "outputs": [
    {
     "data": {
      "text/plain": [
       "2"
      ]
     },
     "execution_count": 45,
     "metadata": {},
     "output_type": "execute_result"
    }
   ],
   "source": [
    "x_train_scaled.ndim"
   ]
  },
  {
   "cell_type": "code",
   "execution_count": 47,
   "id": "427af4a5-acdd-431e-9ea7-717b1c20cb86",
   "metadata": {},
   "outputs": [
    {
     "data": {
      "text/plain": [
       "1.4864910789960254e-17"
      ]
     },
     "execution_count": 47,
     "metadata": {},
     "output_type": "execute_result"
    }
   ],
   "source": [
    "x_train_scaled[:,0].mean()"
   ]
  },
  {
   "cell_type": "code",
   "execution_count": 52,
   "id": "21ea4cd4-80e3-46a4-959e-7f2848fa1df9",
   "metadata": {},
   "outputs": [
    {
     "data": {
      "text/plain": [
       "1.0"
      ]
     },
     "execution_count": 52,
     "metadata": {},
     "output_type": "execute_result"
    }
   ],
   "source": [
    "x_train_scaled[:,0].var()"
   ]
  },
  {
   "cell_type": "code",
   "execution_count": 53,
   "id": "a575c8bc-f224-47b6-8fc1-80eb87b67dd5",
   "metadata": {},
   "outputs": [
    {
     "data": {
      "text/plain": [
       "1.0"
      ]
     },
     "execution_count": 53,
     "metadata": {},
     "output_type": "execute_result"
    }
   ],
   "source": [
    "x_train_scaled[:,0].std()"
   ]
  },
  {
   "cell_type": "markdown",
   "id": "8f2d13b6-a808-49d2-a651-5810ed3b9726",
   "metadata": {},
   "source": [
    "## NumPy-Arrays in PyTorch Tensoren umwandeln"
   ]
  },
  {
   "cell_type": "code",
   "execution_count": 90,
   "id": "6ddd1798-0191-4757-8205-e4f28dd0ef58",
   "metadata": {},
   "outputs": [],
   "source": [
    "import torch\n",
    "\n",
    "x_train_scaled_tensor = torch.FloatTensor(x_train_scaled)\n",
    "y_train_scaled_tensor = torch.FloatTensor(y_train_scaled)\n",
    "\n",
    "x_test_scaled_tensor = torch.FloatTensor(x_test_scaled)\n",
    "y_test_scaled_tensor = torch.FloatTensor(y_test_scaled)"
   ]
  },
  {
   "cell_type": "code",
   "execution_count": 91,
   "id": "a5026e1a-be95-4e46-bb9b-6352a8521a1f",
   "metadata": {},
   "outputs": [
    {
     "data": {
      "text/plain": [
       "numpy.ndarray"
      ]
     },
     "execution_count": 91,
     "metadata": {},
     "output_type": "execute_result"
    }
   ],
   "source": [
    "type(x_train_scaled)"
   ]
  },
  {
   "cell_type": "code",
   "execution_count": 92,
   "id": "4a8a47bd-58b2-4511-984c-29781e594418",
   "metadata": {},
   "outputs": [
    {
     "data": {
      "text/plain": [
       "torch.Tensor"
      ]
     },
     "execution_count": 92,
     "metadata": {},
     "output_type": "execute_result"
    }
   ],
   "source": [
    "type(x_train_scaled_tensor)"
   ]
  },
  {
   "cell_type": "code",
   "execution_count": 93,
   "id": "f021aa6e-cd3d-4d35-b59e-d4005eeb0c40",
   "metadata": {},
   "outputs": [
    {
     "data": {
      "text/plain": [
       "(130016, 1125)"
      ]
     },
     "execution_count": 93,
     "metadata": {},
     "output_type": "execute_result"
    }
   ],
   "source": [
    "x_train_scaled.shape"
   ]
  },
  {
   "cell_type": "code",
   "execution_count": 95,
   "id": "50192bf7-4793-45d5-aa69-8aa380d21705",
   "metadata": {},
   "outputs": [
    {
     "data": {
      "text/plain": [
       "torch.Size([130016, 1125])"
      ]
     },
     "execution_count": 95,
     "metadata": {},
     "output_type": "execute_result"
    }
   ],
   "source": [
    "x_train_scaled_tensor.shape"
   ]
  },
  {
   "cell_type": "code",
   "execution_count": 96,
   "id": "ee359cdb-b7e0-4fdc-a55a-9c08bbd317c9",
   "metadata": {},
   "outputs": [
    {
     "data": {
      "text/plain": [
       "array([[-1.04534689, -1.04098246, -0.95088668, ..., -0.02000277,\n",
       "         0.7958048 , -0.01143548],\n",
       "       [ 0.62948693,  0.63044988,  1.81224997, ..., -0.02000277,\n",
       "        -1.25658956, -0.01143548],\n",
       "       [-0.5640728 , -0.55938331, -0.95088668, ..., -0.02000277,\n",
       "        -1.25658956, -0.01143548],\n",
       "       ...,\n",
       "       [-0.46781799, -0.47439523,  0.31054527, ..., -0.02000277,\n",
       "         0.7958048 , -0.01143548],\n",
       "       [-0.7758334 , -0.77185353,  0.25047708, ..., -0.02000277,\n",
       "         0.7958048 , -0.01143548],\n",
       "       [ 0.55248308,  0.5454618 , -2.57272776, ..., -0.02000277,\n",
       "        -1.25658956, -0.01143548]])"
      ]
     },
     "execution_count": 96,
     "metadata": {},
     "output_type": "execute_result"
    }
   ],
   "source": [
    "x_train_scaled"
   ]
  },
  {
   "cell_type": "code",
   "execution_count": 98,
   "id": "50e7813b-6fbc-4746-8329-e4e4d47413f3",
   "metadata": {},
   "outputs": [
    {
     "data": {
      "text/plain": [
       "tensor([[-1.0453, -1.0410, -0.9509,  ..., -0.0200,  0.7958, -0.0114],\n",
       "        [ 0.6295,  0.6304,  1.8123,  ..., -0.0200, -1.2566, -0.0114],\n",
       "        [-0.5641, -0.5594, -0.9509,  ..., -0.0200, -1.2566, -0.0114],\n",
       "        ...,\n",
       "        [-0.4678, -0.4744,  0.3105,  ..., -0.0200,  0.7958, -0.0114],\n",
       "        [-0.7758, -0.7719,  0.2505,  ..., -0.0200,  0.7958, -0.0114],\n",
       "        [ 0.5525,  0.5455, -2.5727,  ..., -0.0200, -1.2566, -0.0114]])"
      ]
     },
     "execution_count": 98,
     "metadata": {},
     "output_type": "execute_result"
    }
   ],
   "source": [
    "x_train_scaled_tensor"
   ]
  },
  {
   "cell_type": "markdown",
   "id": "95daa9b0-bc50-4a1a-954f-ae0df103a5fb",
   "metadata": {},
   "source": [
    "# Ein MLP mit PyTorch definieren"
   ]
  },
  {
   "cell_type": "code",
   "execution_count": 57,
   "id": "0e6686cb-6c79-415f-989d-7b540958784d",
   "metadata": {},
   "outputs": [
    {
     "name": "stdout",
     "output_type": "stream",
     "text": [
      "Name: torch\n",
      "Version: 2.1.0\n",
      "Summary: Tensors and Dynamic neural networks in Python with strong GPU acceleration\n",
      "Home-page: https://pytorch.org/\n",
      "Author: PyTorch Team\n",
      "Author-email: packages@pytorch.org\n",
      "License: BSD-3\n",
      "Location: /home/juebrauer/miniconda3/envs/env_ws23/lib/python3.11/site-packages\n",
      "Requires: filelock, fsspec, jinja2, networkx, nvidia-cublas-cu12, nvidia-cuda-cupti-cu12, nvidia-cuda-nvrtc-cu12, nvidia-cuda-runtime-cu12, nvidia-cudnn-cu12, nvidia-cufft-cu12, nvidia-curand-cu12, nvidia-cusolver-cu12, nvidia-cusparse-cu12, nvidia-nccl-cu12, nvidia-nvtx-cu12, sympy, triton, typing-extensions\n",
      "Required-by: torchvision\n"
     ]
    }
   ],
   "source": [
    "!pip show torch"
   ]
  },
  {
   "cell_type": "code",
   "execution_count": 76,
   "id": "72b3d3f1-e780-4cb1-8e80-a64c35700b0b",
   "metadata": {},
   "outputs": [],
   "source": [
    "import torch.nn as nn\n",
    "\n",
    "class MLP(nn.Module):\n",
    "\n",
    "    def __init__(self, input_dim, output_dim):\n",
    "        super(MLP, self).__init__()\n",
    "\n",
    "        self.layers = nn.Sequential(\n",
    "            nn.Linear(input_dim, 64),\n",
    "            nn.ReLU(),\n",
    "            nn.Linear(64, 128),\n",
    "            nn.ReLU(),\n",
    "            nn.Linear(128, 64),\n",
    "            nn.ReLU(),\n",
    "            nn.Linear(64, output_dim)\n",
    "        )\n",
    "\n",
    "    def forward(self, x):\n",
    "        return self.layers(x)"
   ]
  },
  {
   "cell_type": "code",
   "execution_count": 77,
   "id": "48a59fb4-6ab9-4212-bc50-f6a74b392d58",
   "metadata": {},
   "outputs": [
    {
     "data": {
      "text/plain": [
       "(-0.029814239699997195, 0.029814239699997195)"
      ]
     },
     "execution_count": 77,
     "metadata": {},
     "output_type": "execute_result"
    }
   ],
   "source": [
    "import numpy\n",
    "num_features = 1125\n",
    "k = 1/num_features\n",
    "(-numpy.sqrt(k), +numpy.sqrt(k))"
   ]
  },
  {
   "cell_type": "code",
   "execution_count": 78,
   "id": "10470f91-d712-4c09-89be-d5a03957d1e0",
   "metadata": {},
   "outputs": [
    {
     "data": {
      "text/plain": [
       "(130016, 1)"
      ]
     },
     "execution_count": 78,
     "metadata": {},
     "output_type": "execute_result"
    }
   ],
   "source": [
    "y_train.shape"
   ]
  },
  {
   "cell_type": "code",
   "execution_count": 85,
   "id": "2423b271-dd49-4998-b0ef-668c25de445c",
   "metadata": {},
   "outputs": [],
   "source": [
    "input_dim = x_train.shape[1]\n",
    "output_dim = y_train.shape[1]\n",
    "model = MLP(input_dim, output_dim)"
   ]
  },
  {
   "cell_type": "code",
   "execution_count": 80,
   "id": "98b5cbd3-99d5-4c71-a029-e99569d286d7",
   "metadata": {},
   "outputs": [
    {
     "data": {
      "text/plain": [
       "MLP(\n",
       "  (layers): Sequential(\n",
       "    (0): Linear(in_features=1125, out_features=64, bias=True)\n",
       "    (1): ReLU()\n",
       "    (2): Linear(in_features=64, out_features=128, bias=True)\n",
       "    (3): ReLU()\n",
       "    (4): Linear(in_features=128, out_features=64, bias=True)\n",
       "    (5): ReLU()\n",
       "    (6): Linear(in_features=64, out_features=1, bias=True)\n",
       "  )\n",
       ")"
      ]
     },
     "execution_count": 80,
     "metadata": {},
     "output_type": "execute_result"
    }
   ],
   "source": [
    "model"
   ]
  },
  {
   "cell_type": "markdown",
   "id": "d34857ce-ec8f-48e9-80d6-5f1361ec1a00",
   "metadata": {},
   "source": [
    "# MLP trainieren"
   ]
  },
  {
   "cell_type": "code",
   "execution_count": 83,
   "id": "a72329ca-a5a0-4f2d-a740-065e4bcb2694",
   "metadata": {},
   "outputs": [
    {
     "name": "stdout",
     "output_type": "stream",
     "text": [
      "torch.Size([64, 1125])\n",
      "torch.Size([64])\n",
      "torch.Size([128, 64])\n",
      "torch.Size([128])\n",
      "torch.Size([64, 128])\n",
      "torch.Size([64])\n",
      "torch.Size([1, 64])\n",
      "torch.Size([1])\n"
     ]
    }
   ],
   "source": [
    "for p in model.parameters():\n",
    "    print(p.shape)"
   ]
  },
  {
   "cell_type": "code",
   "execution_count": 100,
   "id": "e29c815c-edbb-4798-aa09-d1d6c2db498f",
   "metadata": {},
   "outputs": [
    {
     "name": "stdout",
     "output_type": "stream",
     "text": [
      "Epoch 5: loss=0.9125356078147888\n",
      "Epoch 10: loss=0.7216842770576477\n",
      "Epoch 15: loss=0.4977584481239319\n",
      "Epoch 20: loss=0.4117356538772583\n",
      "Epoch 25: loss=0.3318379521369934\n",
      "Epoch 30: loss=0.29231974482536316\n",
      "Epoch 35: loss=0.25116345286369324\n",
      "Epoch 40: loss=0.21833187341690063\n",
      "Epoch 45: loss=0.1899390071630478\n",
      "Epoch 50: loss=0.16688106954097748\n"
     ]
    },
    {
     "data": {
      "image/png": "[encoded data removed]",
      "text/plain": [
       "<Figure size 640x480 with 1 Axes>"
      ]
     },
     "metadata": {},
     "output_type": "display_data"
    }
   ],
   "source": [
    "import torch.optim as optim\n",
    "\n",
    "# Hyperparameter\n",
    "learning_rate = 0.001\n",
    "epochs = 50\n",
    "\n",
    "model = MLP(input_dim, output_dim)\n",
    "loss = nn.MSELoss()\n",
    "optimizer = optim.Adam(model.parameters(), lr=learning_rate)\n",
    "\n",
    "model.train()\n",
    "\n",
    "losses = []\n",
    "\n",
    "for epoch in range(1,epochs+1):\n",
    "\n",
    "    optimizer.zero_grad()\n",
    "\n",
    "    outputs = model(x_train_scaled_tensor)\n",
    "\n",
    "    l = loss(outputs, y_train_scaled_tensor)\n",
    "\n",
    "    l.backward()\n",
    "    optimizer.step()\n",
    "\n",
    "    if epoch % 5 == 0:\n",
    "        print(f\"Epoch {epoch}: loss={l.item()}\")\n",
    "\n",
    "    losses.append( l.item() )\n",
    "\n",
    "import matplotlib.pyplot as plt\n",
    "plt.plot( losses )\n",
    "plt.xlabel(\"Epoche\")\n",
    "plt.ylabel(\"Loss (MSE)\")\n",
    "plt.title(\"Fehlerkurve / Trainingskurve\")\n",
    "plt.show()"
   ]
  },
  {
   "cell_type": "code",
   "execution_count": 88,
   "id": "84b9fc40-4f41-4896-9336-697f31ca9e6b",
   "metadata": {},
   "outputs": [
    {
     "data": {
      "text/plain": [
       "pandas.core.frame.DataFrame"
      ]
     },
     "execution_count": 88,
     "metadata": {},
     "output_type": "execute_result"
    }
   ],
   "source": [
    "type(x_train)"
   ]
  },
  {
   "cell_type": "markdown",
   "id": "8db495e0-573e-41bb-9c85-1d65dd6d4287",
   "metadata": {},
   "source": [
    "# MLP anwenden"
   ]
  },
  {
   "cell_type": "code",
   "execution_count": 106,
   "id": "22658c07-b8a7-4b22-b312-0f0e853095a7",
   "metadata": {},
   "outputs": [
    {
     "data": {
      "text/plain": [
       "tensor([-0.7758, -0.7719, -0.4103,  ..., -0.0200, -1.2566, -0.0114])"
      ]
     },
     "execution_count": 106,
     "metadata": {},
     "output_type": "execute_result"
    }
   ],
   "source": [
    "example_tensor = x_test_scaled_tensor[0]\n",
    "example_tensor"
   ]
  },
  {
   "cell_type": "code",
   "execution_count": 107,
   "id": "d10b33b0-13ac-4e3a-9618-93dde1ee8239",
   "metadata": {},
   "outputs": [],
   "source": [
    "model.eval()\n",
    "with torch.no_grad():\n",
    "    preds = model(example_tensor)"
   ]
  },
  {
   "cell_type": "code",
   "execution_count": 108,
   "id": "bd466ca8-d147-4723-971d-b85f444a33d6",
   "metadata": {},
   "outputs": [
    {
     "data": {
      "text/plain": [
       "tensor([0.1944])"
      ]
     },
     "execution_count": 108,
     "metadata": {},
     "output_type": "execute_result"
    }
   ],
   "source": [
    "preds"
   ]
  },
  {
   "cell_type": "code",
   "execution_count": 110,
   "id": "f8ed2ecf-d597-4cc7-ab02-1c263fd28e38",
   "metadata": {},
   "outputs": [
    {
     "data": {
      "text/plain": [
       "tensor([[0.1944]])"
      ]
     },
     "execution_count": 110,
     "metadata": {},
     "output_type": "execute_result"
    }
   ],
   "source": [
    "preds.reshape(1,1)"
   ]
  },
  {
   "cell_type": "code",
   "execution_count": 111,
   "id": "845182ec-a4af-4ca0-9fa0-4ede0bbfe20a",
   "metadata": {},
   "outputs": [
    {
     "data": {
      "text/plain": [
       "array([[24005.47143709]])"
      ]
     },
     "execution_count": 111,
     "metadata": {},
     "output_type": "execute_result"
    }
   ],
   "source": [
    "scaler_output.inverse_transform(preds.reshape(1,1))"
   ]
  },
  {
   "cell_type": "code",
   "execution_count": 112,
   "id": "dadc6d03-1900-4f62-b85a-bd676497eaee",
   "metadata": {},
   "outputs": [
    {
     "data": {
      "text/plain": [
       "array([0.93265261])"
      ]
     },
     "execution_count": 112,
     "metadata": {},
     "output_type": "execute_result"
    }
   ],
   "source": [
    "y_test_scaled[0]"
   ]
  },
  {
   "cell_type": "code",
   "execution_count": 113,
   "id": "83a70046-3781-4eed-bd87-06e6d90a3211",
   "metadata": {},
   "outputs": [
    {
     "data": {
      "text/plain": [
       "array([[32970.]])"
      ]
     },
     "execution_count": 113,
     "metadata": {},
     "output_type": "execute_result"
    }
   ],
   "source": [
    "scaler_output.inverse_transform(y_test_scaled[0].reshape(1,1))"
   ]
  },
  {
   "cell_type": "code",
   "execution_count": 114,
   "id": "2b2d450c-e8af-44da-b450-47542ee4b423",
   "metadata": {},
   "outputs": [
    {
     "data": {
      "text/plain": [
       "torch.Size([32505, 1])"
      ]
     },
     "execution_count": 114,
     "metadata": {},
     "output_type": "execute_result"
    }
   ],
   "source": [
    "y_test_scaled_tensor.shape"
   ]
  },
  {
   "cell_type": "markdown",
   "id": "ab811507-6600-4d3c-a6eb-ca4b120b072d",
   "metadata": {},
   "source": [
    "# Modellgüte bestimmen"
   ]
  },
  {
   "cell_type": "code",
   "execution_count": 119,
   "id": "966309ac-2b4c-4b4a-b251-7568eb22fddd",
   "metadata": {},
   "outputs": [
    {
     "data": {
      "text/plain": [
       "tensor([[ 0.1944],\n",
       "        [-1.4320],\n",
       "        [-1.7108],\n",
       "        ...,\n",
       "        [-1.4772],\n",
       "        [-0.8708],\n",
       "        [ 0.2620]])"
      ]
     },
     "execution_count": 119,
     "metadata": {},
     "output_type": "execute_result"
    }
   ],
   "source": [
    "model.eval()\n",
    "with torch.no_grad():\n",
    "    preds = model(x_test_scaled_tensor)\n",
    "preds"
   ]
  },
  {
   "cell_type": "code",
   "execution_count": 120,
   "id": "3a52c6f3-1133-4ed3-9d4f-e9fff1b98617",
   "metadata": {},
   "outputs": [
    {
     "data": {
      "text/plain": [
       "torch.Size([32505, 1])"
      ]
     },
     "execution_count": 120,
     "metadata": {},
     "output_type": "execute_result"
    }
   ],
   "source": [
    "preds.shape"
   ]
  },
  {
   "cell_type": "code",
   "execution_count": 121,
   "id": "72eeb95c-ded0-443f-a764-ffd0533dfb70",
   "metadata": {},
   "outputs": [
    {
     "data": {
      "text/plain": [
       "array([[24005.47216084],\n",
       "       [ 4257.44102849],\n",
       "       [  871.53016123],\n",
       "       ...,\n",
       "       [ 3708.05872591],\n",
       "       [11071.5019512 ],\n",
       "       [24826.97247729]])"
      ]
     },
     "execution_count": 121,
     "metadata": {},
     "output_type": "execute_result"
    }
   ],
   "source": [
    "preds_euro = scaler_output.inverse_transform( preds )\n",
    "preds_euro"
   ]
  },
  {
   "cell_type": "code",
   "execution_count": 122,
   "id": "79a3a451-5833-458b-b2c7-c6471d8177a1",
   "metadata": {},
   "outputs": [
    {
     "data": {
      "text/plain": [
       "array([[32969.99980747],\n",
       "       [ 3300.00012987],\n",
       "       [ 2990.00048841],\n",
       "       ...,\n",
       "       [ 6649.99961731],\n",
       "       [12500.00015894],\n",
       "       [21980.00000717]])"
      ]
     },
     "execution_count": 122,
     "metadata": {},
     "output_type": "execute_result"
    }
   ],
   "source": [
    "gt_euro = scaler_output.inverse_transform( y_test_scaled_tensor )\n",
    "gt_euro"
   ]
  },
  {
   "cell_type": "markdown",
   "id": "376fb651-ac8f-4d9c-b6fd-1ba49b0255c2",
   "metadata": {},
   "source": [
    "## Mean Absolut Error (MAE)"
   ]
  },
  {
   "cell_type": "code",
   "execution_count": 127,
   "id": "22889a57-d283-47cb-9cbd-9a532aa6115e",
   "metadata": {},
   "outputs": [
    {
     "data": {
      "text/plain": [
       "array([[8964.52764662],\n",
       "       [ 957.44089862],\n",
       "       [2118.47032719],\n",
       "       ...,\n",
       "       [2941.9408914 ],\n",
       "       [1428.49820775],\n",
       "       [2846.97247012]])"
      ]
     },
     "execution_count": 127,
     "metadata": {},
     "output_type": "execute_result"
    }
   ],
   "source": [
    "abs(preds_euro - gt_euro)"
   ]
  },
  {
   "cell_type": "code",
   "execution_count": 126,
   "id": "820aaa2f-45e1-4bc1-8bb0-dac215b42492",
   "metadata": {},
   "outputs": [
    {
     "data": {
      "text/plain": [
       "3325.0876435004866"
      ]
     },
     "execution_count": 126,
     "metadata": {},
     "output_type": "execute_result"
    }
   ],
   "source": [
    "import numpy\n",
    "numpy.mean(abs(preds_euro - gt_euro))"
   ]
  },
  {
   "cell_type": "code",
   "execution_count": 128,
   "id": "e4d0b3c0-db1d-42e8-9b48-95a649eb3272",
   "metadata": {},
   "outputs": [
    {
     "data": {
      "text/plain": [
       "3325.0876435004866"
      ]
     },
     "execution_count": 128,
     "metadata": {},
     "output_type": "execute_result"
    }
   ],
   "source": [
    "from sklearn.metrics import mean_absolute_error\n",
    "mean_absolute_error(gt_euro, preds_euro)"
   ]
  },
  {
   "cell_type": "markdown",
   "id": "36a6de0f-2ebf-49b8-80cd-a5a32fe880cc",
   "metadata": {},
   "source": [
    "## Ein anderes Fehlermaß: MAPE"
   ]
  },
  {
   "cell_type": "code",
   "execution_count": 129,
   "id": "b037bad4-3892-422c-a665-cd4ad0fcb63c",
   "metadata": {},
   "outputs": [
    {
     "data": {
      "text/plain": [
       "1000"
      ]
     },
     "execution_count": 129,
     "metadata": {},
     "output_type": "execute_result"
    }
   ],
   "source": [
    "6000 - 5000"
   ]
  },
  {
   "cell_type": "code",
   "execution_count": 130,
   "id": "019f279b-8d5d-4677-841f-4a7ea7ec53b7",
   "metadata": {},
   "outputs": [
    {
     "data": {
      "text/plain": [
       "1000"
      ]
     },
     "execution_count": 130,
     "metadata": {},
     "output_type": "execute_result"
    }
   ],
   "source": [
    "60000 - 59000"
   ]
  },
  {
   "cell_type": "code",
   "execution_count": 131,
   "id": "db30376f-3258-4922-a56e-76827787213b",
   "metadata": {},
   "outputs": [
    {
     "data": {
      "text/plain": [
       "0.2"
      ]
     },
     "execution_count": 131,
     "metadata": {},
     "output_type": "execute_result"
    }
   ],
   "source": [
    "(6000 - 5000)/5000"
   ]
  },
  {
   "cell_type": "code",
   "execution_count": 132,
   "id": "1d193d6c-97d5-408b-a3b6-608d8e15ed74",
   "metadata": {},
   "outputs": [
    {
     "data": {
      "text/plain": [
       "0.01694915254237288"
      ]
     },
     "execution_count": 132,
     "metadata": {},
     "output_type": "execute_result"
    }
   ],
   "source": [
    "(60000 - 59000)/59000"
   ]
  },
  {
   "cell_type": "code",
   "execution_count": 133,
   "id": "902ca767-1d87-4135-a7c7-cd0731e229fb",
   "metadata": {},
   "outputs": [
    {
     "data": {
      "text/plain": [
       "0.20844467961055546"
      ]
     },
     "execution_count": 133,
     "metadata": {},
     "output_type": "execute_result"
    }
   ],
   "source": [
    "import numpy\n",
    "numpy.mean(abs(preds_euro - gt_euro) / gt_euro)"
   ]
  },
  {
   "cell_type": "code",
   "execution_count": 134,
   "id": "f54a3b1e-af1b-401d-9542-a4d55107aad7",
   "metadata": {},
   "outputs": [
    {
     "data": {
      "text/plain": [
       "0.20844467961055546"
      ]
     },
     "execution_count": 134,
     "metadata": {},
     "output_type": "execute_result"
    }
   ],
   "source": [
    "from sklearn.metrics import mean_absolute_percentage_error\n",
    "mean_absolute_percentage_error(gt_euro, preds_euro)"
   ]
  },
  {
   "cell_type": "markdown",
   "id": "5f851ebf-e280-4f99-88c8-9ff95c3d87be",
   "metadata": {},
   "source": [
    "# Vergleich der MLP-Leistung mit Baseline"
   ]
  },
  {
   "cell_type": "markdown",
   "id": "9f4bc7b2-a033-4520-9f3a-33b15e9ba062",
   "metadata": {},
   "source": [
    "## Rate-Strategie"
   ]
  },
  {
   "cell_type": "code",
   "execution_count": 149,
   "id": "50948933-e38b-4a40-b069-5906c672256f",
   "metadata": {},
   "outputs": [
    {
     "data": {
      "text/plain": [
       "19890.0"
      ]
     },
     "execution_count": 149,
     "metadata": {},
     "output_type": "execute_result"
    }
   ],
   "source": [
    "mittlerer_verkaufspreis = y_train[\"price_in_euro\"].median()\n",
    "mittlerer_verkaufspreis"
   ]
  },
  {
   "cell_type": "markdown",
   "id": "fd72e5a5-4b65-4ff3-9a13-dcc07c82ac3c",
   "metadata": {},
   "source": [
    "### MAE"
   ]
  },
  {
   "cell_type": "code",
   "execution_count": 150,
   "id": "e7287713-7258-438d-9868-178a1edcaa0d",
   "metadata": {},
   "outputs": [
    {
     "data": {
      "text/plain": [
       "9447.093407422295"
      ]
     },
     "execution_count": 150,
     "metadata": {},
     "output_type": "execute_result"
    }
   ],
   "source": [
    "import numpy\n",
    "numpy.mean(abs(mittlerer_verkaufspreis - gt_euro))"
   ]
  },
  {
   "cell_type": "markdown",
   "id": "c4242c00-ec38-41ce-b146-e23065381da8",
   "metadata": {},
   "source": [
    "### MAPE"
   ]
  },
  {
   "cell_type": "code",
   "execution_count": 151,
   "id": "ef831b64-a89b-471d-b9b2-cda4db1beb33",
   "metadata": {},
   "outputs": [
    {
     "data": {
      "text/plain": [
       "0.811352188372236"
      ]
     },
     "execution_count": 151,
     "metadata": {},
     "output_type": "execute_result"
    }
   ],
   "source": [
    "import numpy\n",
    "numpy.mean(abs(mittlerer_verkaufspreis - gt_euro) / gt_euro)"
   ]
  },
  {
   "cell_type": "code",
   "execution_count": 165,
   "id": "84f122b7-b0bf-4074-914c-6d04c184e8ae",
   "metadata": {},
   "outputs": [],
   "source": [
    "werte = [10, 300, 40, 30, 49900, 600, 2]"
   ]
  },
  {
   "cell_type": "code",
   "execution_count": 166,
   "id": "7fda22a0-5eba-44a9-9e22-13a7156340d5",
   "metadata": {},
   "outputs": [
    {
     "data": {
      "text/plain": [
       "7268.857142857143"
      ]
     },
     "execution_count": 166,
     "metadata": {},
     "output_type": "execute_result"
    }
   ],
   "source": [
    "numpy.mean(werte)"
   ]
  },
  {
   "cell_type": "code",
   "execution_count": 167,
   "id": "1e9f4545-58a7-4ee8-b265-ad271890b55f",
   "metadata": {},
   "outputs": [
    {
     "data": {
      "text/plain": [
       "40.0"
      ]
     },
     "execution_count": 167,
     "metadata": {},
     "output_type": "execute_result"
    }
   ],
   "source": [
    "numpy.median(werte)"
   ]
  },
  {
   "cell_type": "code",
   "execution_count": 168,
   "id": "27456e4e-d4d9-4bc6-9e9c-eeeadc4dcbb2",
   "metadata": {},
   "outputs": [
    {
     "data": {
      "text/plain": [
       "[2, 10, 30, 40, 300, 600, 49900]"
      ]
     },
     "execution_count": 168,
     "metadata": {},
     "output_type": "execute_result"
    }
   ],
   "source": [
    "sorted(werte)"
   ]
  },
  {
   "cell_type": "code",
   "execution_count": null,
   "id": "14972a18-404f-4301-9482-563ee630a64f",
   "metadata": {},
   "outputs": [],
   "source": []
  }
 ],
 "metadata": {
  "kernelspec": {
   "display_name": "Python 3 (ipykernel)",
   "language": "python",
   "name": "python3"
  },
  "language_info": {
   "codemirror_mode": {
    "name": "ipython",
    "version": 3
   },
   "file_extension": ".py",
   "mimetype": "text/x-python",
   "name": "python",
   "nbconvert_exporter": "python",
   "pygments_lexer": "ipython3",
   "version": "3.11.5"
  }
 },
 "nbformat": 4,
 "nbformat_minor": 5
}
